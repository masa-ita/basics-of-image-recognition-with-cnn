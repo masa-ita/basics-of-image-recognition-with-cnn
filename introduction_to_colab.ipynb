{
 "cells": [
  {
   "cell_type": "markdown",
   "metadata": {},
   "source": [
    "# Google Colaboratory で動かしてみよう\n",
    "\n",
    "Google Colaboratoryでノートブックを動かしてみましょう。\n",
    "\n",
    "## Google Colaboratoryとは何か\n",
    "\n",
    "[Google Colaboratory](https://colab.research.google.com/notebooks/welcome.ipynb) (以下Colabと表記)　は、Googleクラウド上でJupyter Notebook環境を提供している、Googleのサービスです。Colabはオープンソースソフトウェアであり、以下のようなことができるウェブアプリケーションです。\n",
    "\n",
    "- プログラムの実行とその結果の表示\n",
    "- Markdown形式のテキスト文書を記述することで、メモやプログラム解説内容を残せる\n",
    "\n",
    "## Colabのメリット\n",
    "\n",
    "- 開発環境が揃っている\n",
    "- GPU / TPUが無料で使える\n",
    "\n",
    "Colabのメリットは、何と言ってもGPUが無料で使える点です。\n",
    "ディープラーニングで大きな計算をする際にGPUのあり／なしで計算速度が大きく異なります。学習用途で使用するには十分すぎるほどです。\n",
    "GPUの他に、TPUも無料で使えます。\n",
    "\n",
    "また、Pythonやディープラーニング・機械学習関連のライブラリがすでにインストール済ですので、\n",
    "開発環境を色々準備する手間が省けるのもメリットです。\n",
    "\n",
    "## Colabのデメリット\n",
    "\n",
    "- 時間制限がある\n",
    "- ファイルの読込み方法が特殊\n",
    "\n",
    "デメリットは時間制限があります。最初のノートブックを開いてから**最大12時間**までで、Colabでのノートブックサーバがシャットダウンします。\n",
    "また、Webブラウザを閉じる等でノートブックのセッションが終了すると、セッション終了から**90分後**にはシャットダウンされてしまうので、これも注意です。\n",
    "データや学習済モデル等は、忘れずにGoogleドライブに保存しましょう。\n",
    "\n",
    "また、ファイルの読み込み方法が少し癖がありますが、慣れれば大丈夫でしょう。"
   ]
  },
  {
   "cell_type": "markdown",
   "metadata": {},
   "source": [
    "## 必要なもの\n",
    "\n",
    "- Googleアカウント\n",
    "    - まだ持っていない方は、こちらを参考にしてアカウントを作成してください: [Google アカウントの作成](https://accounts.google.com/signup)\n",
    "- Webブラウザ\n",
    "    - 主要なWebブラウザであれば動作します。PC版のChromeもしくはFirefoxでの動作は確認しています。"
   ]
  },
  {
   "cell_type": "markdown",
   "metadata": {},
   "source": [
    "## 事前設定\n",
    "\n",
    "Google Colaboratoryで作成・実行するノートブックは、Googleドライブに保存されます。\n",
    "GoogleドライブにGoogle Colaboratoryと関連付けすることで、Googleドライブから簡単にノートブックを新規作成できるようになります。\n",
    "\n",
    "GoogleアカウントでGoogleドライブにログインしましょう。\n",
    "\n",
    "[https://drive.google.com/](https://drive.google.com/)\n",
    "\n",
    "Googleドライブで、以下の設定をします。\n",
    "\n",
    "1. 「新規」ボタンをクリックし、「その他」→「アプリを追加」をクリック\n",
    "2. Colaboratoryを選択し、追加する\n",
    "\n",
    "## Colabを使う\n",
    "\n",
    "### 新規作成\n",
    "\n",
    "いくつか方法がありますが、今回はGoogleドライブから作成します。\n",
    "\n",
    "\n",
    "### GPUを使うように変更\n",
    "\n",
    "1. [ランタイム]→[ランタイムのタイプを変更]をクリック\n",
    "2. 以下のように変更し、「保存」をクリック\n",
    "    - ランタイムのタイプ: `Python 3` が選択されていることを確認\n",
    "    - ハードウェアアクセラレータ: `GPU`に変更\n",
    "\n",
    "変更すると、対応した仮想ノートブックサーバが起動します。\n",
    "\n",
    "### セルの作成・実行\n",
    "\n",
    "#### 作成\n",
    "\n",
    "- 上部にある「コード」もしくは「テキスト」をクリックすると、セルが作成されます\n",
    "    - コード: Pythonコード\n",
    "    - テキスト: Markdown形式のテキスト\n",
    "- セルの間にマウスをフォーカスすると、その間にセルを作成するボタンが出現します\n",
    "\n",
    "#### 実行\n",
    "\n",
    "- 選択したセルの左側に実行ボタンが表示されるので、これをクリックするとセルのコードが実行できます\n",
    "- もしくはJupyter Notebookと同じように、「Ctrl+Enter」もしくは「Shift+Enter」で実行できます\n",
    "\n",
    "### コマンドの実行\n",
    "\n",
    "- Jupyter Notebookと同じように、コードセルで先頭行に`!`を入れると、シェルコマンドが実行できます。\n",
    "- Colabでプリインストールされていないライブラリも`!pip install`でインストール可能です。"
   ]
  },
  {
   "cell_type": "markdown",
   "metadata": {},
   "source": [
    "## ColabでGoogleドライブにあるファイルの読み込み\n",
    "\n",
    "以下のコードをコードセルで実行します。"
   ]
  },
  {
   "cell_type": "code",
   "execution_count": null,
   "metadata": {},
   "outputs": [],
   "source": [
    "from google.colab import drive\n",
    "drive.mount('/content/gdrive')"
   ]
  },
  {
   "cell_type": "markdown",
   "metadata": {},
   "source": [
    "実行結果内にあるURLリンクをクリックして、Googleアカウントでログインし、ColabからGoogleドライブへアクセスする許可をします。\n",
    "許可した後に表示される文字列をコピーし、セル実行結果内にあるテキスト入力ボックスに貼り付けてEnterを押すと、\n",
    "Googleドライブにアクセスが可能です。\n",
    "これによって、Colabが起動しているサーバの`/content/gdrive`にGoogleドライブがマウントされます。\n",
    "\n",
    "例えばマイドライブにアクセスするには、以下のようにします。"
   ]
  },
  {
   "cell_type": "code",
   "execution_count": null,
   "metadata": {},
   "outputs": [],
   "source": [
    "!ls /content/gdrive/My\\ Drive"
   ]
  },
  {
   "cell_type": "markdown",
   "metadata": {},
   "source": [
    "## ColabでGoogleドライブへファイルの保存\n",
    "\n",
    "ノートブックはGoogleドライブに自動的に保存されますが、\n",
    "学習後の学習済モデルは、Colabが起動しているサーバ内にあるだけなので、時間制限後は削除されてしまいます。\n",
    "\n",
    "学習済モデルをGoogleドライブに保存する場合は、以下のようにしましょう。"
   ]
  },
  {
   "cell_type": "code",
   "execution_count": null,
   "metadata": {},
   "outputs": [],
   "source": [
    "## 学習済モデルのColabサーバ内に保存\n",
    "model.save('model.h5')"
   ]
  },
  {
   "cell_type": "code",
   "execution_count": null,
   "metadata": {},
   "outputs": [],
   "source": [
    "## 学習済モデルファイルをGoogleドライブのマイドライブへ保存\n",
    "!cp model.h5 /content/gdrive/My\\ Drive/."
   ]
  },
  {
   "cell_type": "markdown",
   "metadata": {},
   "source": [
    "## Jupyter NotebookファイルをColabで動かす\n",
    "\n",
    "いくつか方法はありますが、ノートブックファイルを一旦Googleドライブへ保存してから、Colabで開いた方が安全です。"
   ]
  },
  {
   "cell_type": "markdown",
   "metadata": {},
   "source": [
    "## Open in Colab ボタン\n",
    "\n",
    "一部のノートブックには、以下のような「Open in Colab」と書かれたボタンがあります。"
   ]
  },
  {
   "cell_type": "markdown",
   "metadata": {},
   "source": [
    "[![open in colab](https://colab.research.google.com/assets/colab-badge.svg)](https://colab.research.google.com/github/nagaoka-ai-innovationhub/basics-of-image-recognition-with-cnn/blob/master/introduction_to_colab.ipynb)"
   ]
  },
  {
   "cell_type": "markdown",
   "metadata": {},
   "source": [
    "このボタンを押すと、GitHub上に設置しているノートブックがColab上で開くこともできます。"
   ]
  },
  {
   "cell_type": "code",
   "execution_count": null,
   "metadata": {},
   "outputs": [],
   "source": []
  }
 ],
 "metadata": {
  "kernelspec": {
   "display_name": "Python 3",
   "language": "python",
   "name": "python3"
  },
  "language_info": {
   "codemirror_mode": {
    "name": "ipython",
    "version": 3
   },
   "file_extension": ".py",
   "mimetype": "text/x-python",
   "name": "python",
   "nbconvert_exporter": "python",
   "pygments_lexer": "ipython3",
   "version": "3.7.4"
  }
 },
 "nbformat": 4,
 "nbformat_minor": 2
}
