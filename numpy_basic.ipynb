{
 "cells": [
  {
   "cell_type": "markdown",
   "metadata": {},
   "source": [
    "# NumPy"
   ]
  },
  {
   "cell_type": "markdown",
   "metadata": {},
   "source": [
    "NumPyはPythonでの数値計算の中核となるライブラリです。NumPyには高速な計算を可能にする多次元配列オブジェクトとそれを使うためのツールが用意されています。"
   ]
  },
  {
   "cell_type": "markdown",
   "metadata": {},
   "source": [
    "## NumPyのインポート\n",
    "NumPyを使う際には、短縮名npを指定するのが慣例となっています。"
   ]
  },
  {
   "cell_type": "code",
   "execution_count": null,
   "metadata": {},
   "outputs": [],
   "source": [
    "import numpy as np"
   ]
  },
  {
   "cell_type": "markdown",
   "metadata": {},
   "source": [
    "# NumPy配列"
   ]
  },
  {
   "cell_type": "markdown",
   "metadata": {},
   "source": [
    "NumPyの中心となるのがNumPy配列です。NumPy配列を使うことで、行列・ベクトルの処理が非常に簡単に行えるようになります。  \n",
    "NumPy配列は、リストと異なり、すべての要素が同じデータ型でなければなりません。データ型に関しては後述します。 　"
   ]
  },
  {
   "cell_type": "markdown",
   "metadata": {},
   "source": [
    "## 行列・ベクトルの初期化"
   ]
  },
  {
   "cell_type": "markdown",
   "metadata": {},
   "source": [
    "### Pythonのリストからの配列生成\n",
    "NumPy配列を作成するにはPythonのリストを引数としてarray()関数を呼び出します。"
   ]
  },
  {
   "cell_type": "code",
   "execution_count": null,
   "metadata": {},
   "outputs": [],
   "source": [
    "a1 = np.array([1, 2, 3, 4, 5])\n",
    "a1"
   ]
  },
  {
   "cell_type": "markdown",
   "metadata": {},
   "source": [
    "多次元配列からの生成も可能です。  \n",
    "行列は行ベクトルの集まりとして表現されます。"
   ]
  },
  {
   "cell_type": "code",
   "execution_count": null,
   "metadata": {},
   "outputs": [],
   "source": [
    "a2 = np.array([[1, 2, 3], [4, 5, 6]])\n",
    "a2"
   ]
  },
  {
   "cell_type": "markdown",
   "metadata": {},
   "source": [
    "### ゼロ配列の生成\n",
    "要素が全てゼロの配列を作成するにはnp.zeros()関数を用います。"
   ]
  },
  {
   "cell_type": "code",
   "execution_count": null,
   "metadata": {},
   "outputs": [],
   "source": [
    "a3 = np.zeros(6)\n",
    "a3"
   ]
  },
  {
   "cell_type": "markdown",
   "metadata": {},
   "source": [
    "引数に次元を表すタプルを渡すことで多次元のゼロ配列も生成できます。"
   ]
  },
  {
   "cell_type": "code",
   "execution_count": null,
   "metadata": {},
   "outputs": [],
   "source": [
    "a4 = np.zeros((6,6))\n",
    "a4"
   ]
  },
  {
   "cell_type": "markdown",
   "metadata": {},
   "source": [
    "### 全てが1の配列の生成\n",
    "要素が全て1の配列を作成するにはnp.ones()関数を用います。"
   ]
  },
  {
   "cell_type": "code",
   "execution_count": null,
   "metadata": {},
   "outputs": [],
   "source": [
    "a5 = np.ones(9)\n",
    "a5"
   ]
  },
  {
   "cell_type": "markdown",
   "metadata": {},
   "source": [
    "こちらも、タプルを渡すことで、多次元配列が生成できます。"
   ]
  },
  {
   "cell_type": "code",
   "execution_count": null,
   "metadata": {},
   "outputs": [],
   "source": [
    "a6 = np.ones((3,3))\n",
    "a6"
   ]
  },
  {
   "cell_type": "markdown",
   "metadata": {},
   "source": [
    "### 等差級数を要素に持つ配列の生成\n",
    "一定の値ずつ増加する等差級数を要素とする配列を生成するには、np.arange()関数を用います。"
   ]
  },
  {
   "cell_type": "code",
   "execution_count": null,
   "metadata": {},
   "outputs": [],
   "source": [
    "a7 = np.arange(5)\n",
    "a7"
   ]
  },
  {
   "cell_type": "code",
   "execution_count": null,
   "metadata": {},
   "outputs": [],
   "source": [
    "a8 = np.arange(3,8)\n",
    "a8"
   ]
  },
  {
   "cell_type": "markdown",
   "metadata": {},
   "source": [
    "3つ目の引数で、ステップを指定できます。"
   ]
  },
  {
   "cell_type": "code",
   "execution_count": null,
   "metadata": {},
   "outputs": [],
   "source": [
    "a9 = np.arange(3, 20, 3)\n",
    "a9"
   ]
  },
  {
   "cell_type": "markdown",
   "metadata": {},
   "source": [
    "### 1次元配列から多次元配列を作る\n",
    "np.reshape()関数を用いると、1次元の配列から多次元の配列を生成することができます。"
   ]
  },
  {
   "cell_type": "code",
   "execution_count": null,
   "metadata": {},
   "outputs": [],
   "source": [
    "a10 = np.arange(6).reshape(2, 3)\n",
    "a10"
   ]
  },
  {
   "cell_type": "code",
   "execution_count": null,
   "metadata": {},
   "outputs": [],
   "source": [
    "a11 = np.arange(27).reshape(3, 3, 3)\n",
    "a11"
   ]
  },
  {
   "cell_type": "markdown",
   "metadata": {},
   "source": [
    "### 単位行列の作成\n",
    "対角要素が1で、それ以外の要素が0の単位行列を作成するには、np.identity()関数を使用します。"
   ]
  },
  {
   "cell_type": "code",
   "execution_count": null,
   "metadata": {},
   "outputs": [],
   "source": [
    "np.identity(5)"
   ]
  },
  {
   "cell_type": "markdown",
   "metadata": {},
   "source": [
    "## 行列・ベクトルの操作"
   ]
  },
  {
   "cell_type": "markdown",
   "metadata": {},
   "source": [
    "### 要素の取り出し"
   ]
  },
  {
   "cell_type": "code",
   "execution_count": null,
   "metadata": {},
   "outputs": [],
   "source": [
    "a12 = np.arange(12).reshape(4, 3)\n",
    "a12"
   ]
  },
  {
   "cell_type": "markdown",
   "metadata": {},
   "source": [
    "複数次元の位置指定は、カンマ区切りの添字を使用します。"
   ]
  },
  {
   "cell_type": "code",
   "execution_count": null,
   "metadata": {},
   "outputs": [],
   "source": [
    "a12[1, 1]"
   ]
  },
  {
   "cell_type": "markdown",
   "metadata": {},
   "source": [
    "### 要素の置き換え"
   ]
  },
  {
   "cell_type": "code",
   "execution_count": null,
   "metadata": {},
   "outputs": [],
   "source": [
    "a12[1, 1] = 8\n",
    "a12"
   ]
  },
  {
   "cell_type": "markdown",
   "metadata": {},
   "source": [
    "### スライシング"
   ]
  },
  {
   "cell_type": "code",
   "execution_count": null,
   "metadata": {},
   "outputs": [],
   "source": [
    "a13 = np.arange(10)\n",
    "a13"
   ]
  },
  {
   "cell_type": "markdown",
   "metadata": {},
   "source": [
    ":（コロン）を使って、添字の範囲を指定できます。右端は含まれないことに注意します。"
   ]
  },
  {
   "cell_type": "code",
   "execution_count": null,
   "metadata": {},
   "outputs": [],
   "source": [
    "a13[3:8]"
   ]
  },
  {
   "cell_type": "markdown",
   "metadata": {},
   "source": [
    "マイナスの添字は右端からの位置指定となります。"
   ]
  },
  {
   "cell_type": "code",
   "execution_count": null,
   "metadata": {},
   "outputs": [],
   "source": [
    "a13[1:-2]"
   ]
  },
  {
   "cell_type": "markdown",
   "metadata": {},
   "source": [
    "開始位置を省略すると、左端からの範囲指定になります。"
   ]
  },
  {
   "cell_type": "code",
   "execution_count": null,
   "metadata": {},
   "outputs": [],
   "source": [
    "a13[:8]"
   ]
  },
  {
   "cell_type": "markdown",
   "metadata": {},
   "source": [
    "終了位置を省略すると、開始位置から右端までになります。"
   ]
  },
  {
   "cell_type": "code",
   "execution_count": null,
   "metadata": {},
   "outputs": [],
   "source": [
    "a13[4:]"
   ]
  },
  {
   "cell_type": "markdown",
   "metadata": {},
   "source": [
    ":を2つ使うことで、ステップを指定可能です。"
   ]
  },
  {
   "cell_type": "code",
   "execution_count": null,
   "metadata": {},
   "outputs": [],
   "source": [
    "a13[1:8:2]"
   ]
  },
  {
   "cell_type": "markdown",
   "metadata": {},
   "source": [
    "下記の記法により、要素を逆順に取り出すことができます。"
   ]
  },
  {
   "cell_type": "code",
   "execution_count": null,
   "metadata": {},
   "outputs": [],
   "source": [
    "a13[::-1]"
   ]
  },
  {
   "cell_type": "markdown",
   "metadata": {},
   "source": [
    "多次元の場合には、次元ごとに範囲指定します。"
   ]
  },
  {
   "cell_type": "code",
   "execution_count": null,
   "metadata": {},
   "outputs": [],
   "source": [
    "a14 = np.arange(12).reshape(6,2)\n",
    "a14"
   ]
  },
  {
   "cell_type": "markdown",
   "metadata": {},
   "source": [
    "開始位置、終了位置を省略した:（コロン）のみの指定で、その次元のすべての要素を指定したことになります。"
   ]
  },
  {
   "cell_type": "code",
   "execution_count": null,
   "metadata": {},
   "outputs": [],
   "source": [
    "a14[2:5,:]"
   ]
  },
  {
   "cell_type": "markdown",
   "metadata": {},
   "source": [
    "## データ型変換"
   ]
  },
  {
   "cell_type": "markdown",
   "metadata": {},
   "source": [
    "### NumPyのデータ型\n",
    "Numpyで扱えるデータ型には次のようなものがあります。\n",
    "\n",
    "|データ型dtype|説明|\n",
    "|:--:|:--|\n",
    "|int8|符号あり8ビット整数型|\n",
    "|int16|符号あり16ビット整数型|\n",
    "|int32|符号あり32ビット整数型|\n",
    "|int64|符号あり64ビット整数型|\n",
    "|uint8|符号なし8ビット整数型|\n",
    "|uint16|符号なし16ビット整数型|\n",
    "|uint32|符号なし32ビット整数型|\n",
    "|uint64|符号なし64ビット整数型|\n",
    "|float16|半精度浮動小数点型（符号部1ビット、指数部5ビット、仮数部10ビット）|\n",
    "|float32|単精度浮動小数点型（符号部1ビット、指数部8ビット、仮数部23ビット）|\n",
    "|float64|倍精度浮動小数点型（符号部1ビット、指数部11ビット、仮数部52ビット）|\n",
    "|float128|四倍精度浮動小数点型（符号部1ビット、指数部15ビット、仮数部112ビット）|\n",
    "|complex64|複素数（実部・虚部がそれぞれfloat32）|\n",
    "|complex128|複素数（実部・虚部がそれぞれfloat64）|\n",
    "|complex256|複素数（実部・虚部がそれぞれfloat128）|\n",
    "|bool|ブール型（True or False）|\n",
    "|unicode|Unicode文字列|\n",
    "|object|Pythonオブジェクト型|\n"
   ]
  },
  {
   "cell_type": "markdown",
   "metadata": {},
   "source": [
    "### 作成時にデータ型を指定"
   ]
  },
  {
   "cell_type": "code",
   "execution_count": null,
   "metadata": {},
   "outputs": [],
   "source": [
    "a15 = np.array([1, 2, 3, 4, 5, 6], dtype=np.int32)\n",
    "a15"
   ]
  },
  {
   "cell_type": "markdown",
   "metadata": {},
   "source": [
    "データ型を指定しないで作成した数値型のNumPy配列では、データ型が既定のint64あるいはfloat64になります。"
   ]
  },
  {
   "cell_type": "code",
   "execution_count": null,
   "metadata": {},
   "outputs": [],
   "source": [
    "a15.dtype"
   ]
  },
  {
   "cell_type": "code",
   "execution_count": null,
   "metadata": {},
   "outputs": [],
   "source": [
    "np.array([0.1, 0.2, 0.5, 0.7]).dtype"
   ]
  },
  {
   "cell_type": "markdown",
   "metadata": {},
   "source": [
    "### データ型変換"
   ]
  },
  {
   "cell_type": "code",
   "execution_count": null,
   "metadata": {},
   "outputs": [],
   "source": [
    "a16 = a13.astype(np.float16)\n",
    "a16"
   ]
  },
  {
   "cell_type": "code",
   "execution_count": null,
   "metadata": {},
   "outputs": [],
   "source": [
    "a17 = a13.astype('float128')\n",
    "a17"
   ]
  },
  {
   "cell_type": "markdown",
   "metadata": {},
   "source": [
    "### 次元拡張\n",
    "np.newaxis を使うと、配列の次元を拡張することが可能です。"
   ]
  },
  {
   "cell_type": "code",
   "execution_count": null,
   "metadata": {},
   "outputs": [],
   "source": [
    "a18 = np.array([1, 2, 3])\n",
    "a19 = a16[:, np.newaxis]\n",
    "a19"
   ]
  },
  {
   "cell_type": "code",
   "execution_count": null,
   "metadata": {},
   "outputs": [],
   "source": [
    "a20 = a16[np.newaxis, :]\n",
    "a20"
   ]
  },
  {
   "cell_type": "code",
   "execution_count": null,
   "metadata": {},
   "outputs": [],
   "source": [
    "a21 = a16[np.newaxis, :, np.newaxis]\n",
    "a21"
   ]
  },
  {
   "cell_type": "markdown",
   "metadata": {},
   "source": [
    "np.expand_dims()を使用して次元拡張を行うこともできます。"
   ]
  },
  {
   "cell_type": "code",
   "execution_count": null,
   "metadata": {},
   "outputs": [],
   "source": [
    "a22 = np.expand_dims(a16, axis=1)\n",
    "a22"
   ]
  },
  {
   "cell_type": "markdown",
   "metadata": {},
   "source": [
    "# 行列・ベクトルの演算"
   ]
  },
  {
   "cell_type": "markdown",
   "metadata": {},
   "source": [
    "## 四則演算\n",
    "NumPy配列どうしの四則演算は、要素ごとに行われます。  \n",
    "つまり、要素の次元やサイズが同じでなければなりません。  "
   ]
  },
  {
   "cell_type": "code",
   "execution_count": null,
   "metadata": {},
   "outputs": [],
   "source": [
    "a = np.array([[1, 2, 3], [4, 5, 6]])\n",
    "b = np.array([[0.1, 0.2, 0.3], [-0.3, -0.2, -0.1]])\n",
    "\n",
    "a + b"
   ]
  },
  {
   "cell_type": "code",
   "execution_count": null,
   "metadata": {},
   "outputs": [],
   "source": [
    "a - b"
   ]
  },
  {
   "cell_type": "code",
   "execution_count": null,
   "metadata": {},
   "outputs": [],
   "source": [
    "a * b"
   ]
  },
  {
   "cell_type": "code",
   "execution_count": null,
   "metadata": {},
   "outputs": [],
   "source": [
    "a / b"
   ]
  },
  {
   "cell_type": "markdown",
   "metadata": {},
   "source": [
    "## 配列とスカラーの演算\n",
    "配列とスカラーの計算では、スカラーと配列側の全要素との演算になります。  \n",
    "つまり、相手方の配列と同じ次元・要素数で、要素がスカラーという配列との演算と同義になります。  \n",
    "この動作のことを**ブロードキャスト**と呼びます。  "
   ]
  },
  {
   "cell_type": "code",
   "execution_count": null,
   "metadata": {},
   "outputs": [],
   "source": [
    "c = 10\n",
    "a + c"
   ]
  },
  {
   "cell_type": "code",
   "execution_count": null,
   "metadata": {},
   "outputs": [],
   "source": [
    "a / c"
   ]
  },
  {
   "cell_type": "code",
   "execution_count": null,
   "metadata": {},
   "outputs": [],
   "source": [
    "c / a"
   ]
  },
  {
   "cell_type": "markdown",
   "metadata": {},
   "source": [
    "## 配列どうしでのブロードキャスト\n",
    "配列同士の演算で、次元・要素数が異なる場合、小さい方の配列が繰り返し使われる場合があります。  "
   ]
  },
  {
   "cell_type": "code",
   "execution_count": null,
   "metadata": {},
   "outputs": [],
   "source": [
    "d = np.array([[4], [8]])\n",
    "a + d"
   ]
  },
  {
   "cell_type": "markdown",
   "metadata": {},
   "source": [
    "## ベクトルの直積"
   ]
  },
  {
   "cell_type": "markdown",
   "metadata": {},
   "source": [
    "2つのベクトル $\\boldsymbol{a}$ と $\\boldsymbol{b}$ を\n",
    "$$\n",
    "\\boldsymbol{a} =\n",
    "  \\left(\n",
    "    \\begin{array}{c}\n",
    "      a_1 \\\\\n",
    "      a_2 \\\\\n",
    "      \\vdots \\\\\n",
    "      a_n\n",
    "    \\end{array}\n",
    "  \\right)  \n",
    " \\boldsymbol{b} =\n",
    "   \\left(\n",
    "     \\begin{array}{c}\n",
    "       b_1 \\\\\n",
    "       b_2 \\\\\n",
    "       \\vdots \\\\\n",
    "       b_m\n",
    "     \\end{array}\n",
    "   \\right)\n",
    "$$\n",
    "としたとき、$\\boldsymbol{a}$ と $\\boldsymbol{b}$ の直積 $\\boldsymbol{a}\\otimes\\boldsymbol{b}$ は\n",
    "$$\\boldsymbol{a}\\otimes\\boldsymbol{b}=\n",
    "\\left(\n",
    "  \\begin{array}{cc}\n",
    "   a_1b_1 & a_1b_2 & \\cdots & a_1b_m \\\\\n",
    "   a_2b_1 & a_2b_2 & \\cdots & a_2b_m \\\\\n",
    "   \\vdots & \\vdots & \\ddots & \\vdots \\\\\n",
    "   a_nb_1 & a_nb_2 & \\cdots & a_nb_m\n",
    "  \\end{array}\n",
    "\\right)\n",
    "  $$"
   ]
  },
  {
   "cell_type": "code",
   "execution_count": null,
   "metadata": {},
   "outputs": [],
   "source": [
    "e = np.array([1, 2, 3])\n",
    "f = e[:, np.newaxis]\n",
    "e * f"
   ]
  },
  {
   "cell_type": "code",
   "execution_count": null,
   "metadata": {},
   "outputs": [],
   "source": [
    "g = np.outer(e, f)\n",
    "g"
   ]
  },
  {
   "cell_type": "markdown",
   "metadata": {},
   "source": [
    "## ベクトルの内積"
   ]
  },
  {
   "cell_type": "markdown",
   "metadata": {},
   "source": [
    "同じ n次元のベクトル $\\boldsymbol{a}$ と $\\boldsymbol{b}$ を\n",
    "$$\n",
    "\\boldsymbol{a} =\n",
    "  \\left(\n",
    "    \\begin{array}{c}\n",
    "      a_1 \\\\\n",
    "      a_2 \\\\\n",
    "      \\vdots \\\\\n",
    "      a_n\n",
    "    \\end{array}\n",
    "  \\right)  \n",
    " \\boldsymbol{b} =\n",
    "   \\left(\n",
    "     \\begin{array}{c}\n",
    "       b_1 \\\\\n",
    "       b_2 \\\\\n",
    "       \\vdots \\\\\n",
    "       b_n\n",
    "     \\end{array}\n",
    "   \\right)\n",
    "$$\n",
    "としたとき、$\\boldsymbol{a}$ と $\\boldsymbol{b}$ の内積 $\\boldsymbol{a}\\cdot\\boldsymbol{b}$ は\n",
    "$$\\boldsymbol{a}\\cdot\\boldsymbol{b}=\n",
    "  a_1b_1 + a_2b_2 + \\cdots + a_nb_n\n",
    "  $$"
   ]
  },
  {
   "cell_type": "code",
   "execution_count": null,
   "metadata": {},
   "outputs": [],
   "source": [
    "np.dot(e, f)"
   ]
  },
  {
   "cell_type": "markdown",
   "metadata": {},
   "source": [
    "### 転置行列\n",
    "行列の行と列を入れ替えた転置行列を求めるには、np.transpose()関数あるいは.Tを用います。"
   ]
  },
  {
   "cell_type": "code",
   "execution_count": null,
   "metadata": {},
   "outputs": [],
   "source": [
    "np.transpose(a)"
   ]
  },
  {
   "cell_type": "code",
   "execution_count": null,
   "metadata": {},
   "outputs": [],
   "source": [
    "a.T"
   ]
  },
  {
   "cell_type": "markdown",
   "metadata": {},
   "source": [
    "### 行列の積\n",
    "\n",
    "行列の積は、それぞれの位置に対応する行ベクトルと列ベクトルの内積からなる行列です。  \n",
    "行列の積を求めるにはベクトルの内積と同様にnp.dot()関数を使います。"
   ]
  },
  {
   "cell_type": "markdown",
   "metadata": {},
   "source": [
    "$$\n",
    "\\boldsymbol{A} =\n",
    "  \\left(\n",
    "    \\begin{array}{c}\n",
    "      a_{11} & a_{12} & \\cdots & a_{1k} \\\\\n",
    "      a_{21} & a_{22} & \\cdots & a_{2k} \\\\\n",
    "      \\vdots & \\vdots & \\ddots & \\vdots \\\\\n",
    "      a_{n1} & a_{n2} & \\cdots & a_{nk} \\\\\n",
    "    \\end{array}\n",
    "  \\right)  \n",
    "\\boldsymbol{B} =\n",
    "   \\left(\n",
    "     \\begin{array}{c}\n",
    "       b_{11} & b_{12} & \\cdots & b_{1m} \\\\\n",
    "       b_{21} & b_{22} & \\cdots & b_{2m} \\\\\n",
    "       \\vdots & \\vdots & \\ddots & \\vdots \\\\\n",
    "       b_{k1} & b_{k2} & \\cdots & b_{km} \\\\\n",
    "     \\end{array}\n",
    "   \\right)\n",
    "$$\n",
    "\n",
    "としたとき、$\\boldsymbol{A}$ と $\\boldsymbol{B}$ の積 $\\boldsymbol{A}\\cdot\\boldsymbol{B}$ は\n",
    "\n",
    "$$\\boldsymbol{A}\\cdot\\boldsymbol{B}=\n",
    "\\left(\n",
    "  \\begin{array}{cc}\n",
    "   a_{11}b_{11}+a_{12}b_{21}+\\cdots+a_{1k}b_{k1} &\n",
    "   a_{11}b_{12}+a_{12}b_{22}+\\cdots+a_{1k}b_{k2} &\n",
    "   \\cdots &\n",
    "   a_{11}b_{1m}+a_{12}b_{2m}+\\cdots+a_{1k}b_{km} \\\\\n",
    "   a_{21}b_{11}+a_{22}b_{21}+\\cdots+a_{2k}b_{k1} &\n",
    "   a_{21}b_{12}+a_{22}b_{22}+\\cdots+a_{2k}b_{k2} &\n",
    "   \\cdots &\n",
    "   a_{21}b_{1m}+a_{22}b_{2m}+\\cdots+a_{2k}b_{km} \\\\\n",
    "   \\vdots & \\vdots & \\ddots & \\vdots \\\\\n",
    "   a_{n1}b_{11}+a_{n2}b_{21}+\\cdots+a_{nk}b_{k1} &\n",
    "   a_{n1}b_{12}+a_{n2}b_{22}+\\cdots+a_{nk}b_{k2} &\n",
    "   \\cdots &\n",
    "   a_{n1}b_{1m}+a_{n2}b_{2m}+\\cdots+a_{nk}b_{km} \\\\\n",
    "  \\end{array}\n",
    "\\right)\n",
    "  $$"
   ]
  },
  {
   "cell_type": "code",
   "execution_count": null,
   "metadata": {},
   "outputs": [],
   "source": [
    "np.dot(a, a.T)"
   ]
  },
  {
   "cell_type": "markdown",
   "metadata": {},
   "source": [
    "## 行列式の計算\n",
    "行列式はnumpy内の線形代数モジュールlinalgを使って計算できます。"
   ]
  },
  {
   "cell_type": "code",
   "execution_count": null,
   "metadata": {},
   "outputs": [],
   "source": [
    "np.linalg.det(g)"
   ]
  },
  {
   "cell_type": "code",
   "execution_count": null,
   "metadata": {},
   "outputs": [],
   "source": [
    "h = np.array([[1, 2],[3, 4]])\n",
    "np.linalg.det(h)"
   ]
  },
  {
   "cell_type": "markdown",
   "metadata": {},
   "source": [
    "## 逆行列の計算\n",
    "行列式が0でなければ逆行列を求めることもできます。"
   ]
  },
  {
   "cell_type": "code",
   "execution_count": null,
   "metadata": {},
   "outputs": [],
   "source": [
    "np.linalg.inv(h)"
   ]
  },
  {
   "cell_type": "markdown",
   "metadata": {},
   "source": [
    "# 乱数の生成"
   ]
  },
  {
   "cell_type": "markdown",
   "metadata": {},
   "source": [
    "Pythonの標準ライブラリにも乱数を生成するrandomモジュールがありますが、NumPyのrandomモジュールは高速で多機能です。"
   ]
  },
  {
   "cell_type": "markdown",
   "metadata": {},
   "source": [
    "## 一様乱数\n",
    "np.random.rand()関数を使うと、0から1の間の一様乱数を生成できます。  \n",
    "引数で生成する乱数の個数を指定できます。  \n",
    "引数を2個以上与えると、多次元配列を生成できます。　　\n",
    "\n",
    "randomモジュールが生成する乱数は擬似乱数であるため、再現性のある乱数列を得るために、np.random.seed()関数で種となる数値を与えることができます。"
   ]
  },
  {
   "cell_type": "code",
   "execution_count": null,
   "metadata": {},
   "outputs": [],
   "source": [
    "from numpy.random import *\n",
    "\n",
    "seed(100)\n",
    "\n",
    "rand(10)"
   ]
  },
  {
   "cell_type": "code",
   "execution_count": null,
   "metadata": {},
   "outputs": [],
   "source": [
    "rand(10, 10)"
   ]
  },
  {
   "cell_type": "markdown",
   "metadata": {},
   "source": [
    "## 様々な分布の乱数\n",
    "np.randomモジュールには様々な統計分布関数に沿った乱数を生成する関数が用意されています。"
   ]
  },
  {
   "cell_type": "markdown",
   "metadata": {},
   "source": [
    "### 正規分布"
   ]
  },
  {
   "cell_type": "code",
   "execution_count": null,
   "metadata": {},
   "outputs": [],
   "source": [
    "randn(10)"
   ]
  },
  {
   "cell_type": "code",
   "execution_count": null,
   "metadata": {},
   "outputs": [],
   "source": [
    "normal(10, 20, 10)"
   ]
  },
  {
   "cell_type": "markdown",
   "metadata": {},
   "source": [
    "### 二項分布"
   ]
  },
  {
   "cell_type": "code",
   "execution_count": null,
   "metadata": {},
   "outputs": [],
   "source": [
    "binomial(n=100, p=0.5)"
   ]
  },
  {
   "cell_type": "markdown",
   "metadata": {},
   "source": [
    "### ポアソン分布"
   ]
  },
  {
   "cell_type": "code",
   "execution_count": null,
   "metadata": {},
   "outputs": [],
   "source": [
    "poisson(lam=10)"
   ]
  },
  {
   "cell_type": "markdown",
   "metadata": {},
   "source": [
    "### ベータ分布"
   ]
  },
  {
   "cell_type": "code",
   "execution_count": null,
   "metadata": {},
   "outputs": [],
   "source": [
    "beta(a=3, b=5)"
   ]
  },
  {
   "cell_type": "markdown",
   "metadata": {},
   "source": [
    "## 整数の乱数"
   ]
  },
  {
   "cell_type": "markdown",
   "metadata": {},
   "source": [
    "引数が1つの場合、その引数未満の整数の乱数が生成されます。"
   ]
  },
  {
   "cell_type": "code",
   "execution_count": null,
   "metadata": {},
   "outputs": [],
   "source": [
    "randint(100)"
   ]
  },
  {
   "cell_type": "markdown",
   "metadata": {},
   "source": [
    "乱数の取る範囲と個数を指定することもできます。"
   ]
  },
  {
   "cell_type": "code",
   "execution_count": null,
   "metadata": {},
   "outputs": [],
   "source": [
    "randint(0, 20, 10)"
   ]
  },
  {
   "cell_type": "markdown",
   "metadata": {},
   "source": [
    "## 乱択\n",
    "複数の選択肢からランダムに取り出すことができるnp.random.choice()関数が用意されています。"
   ]
  },
  {
   "cell_type": "code",
   "execution_count": null,
   "metadata": {},
   "outputs": [],
   "source": [
    "city = [\"札幌\", \"仙台\", \"新潟\", \"東京\", \"名古屋\", \"大阪\", \"京都\", \"広島\", \"福岡\"]\n",
    "\n",
    "choice(city, 10)"
   ]
  },
  {
   "cell_type": "markdown",
   "metadata": {},
   "source": [
    "既定では、すでに選択された要素がまた選択される設定となります。(`replace=True`)  \n",
    "すでに選択された要素を除外するには、`replace=False` を指定します。"
   ]
  },
  {
   "cell_type": "code",
   "execution_count": null,
   "metadata": {},
   "outputs": [],
   "source": [
    "choice(city, 5, replace=False)"
   ]
  }
 ],
 "metadata": {
  "kernelspec": {
   "display_name": "Python 3",
   "language": "python",
   "name": "python3"
  },
  "language_info": {
   "codemirror_mode": {
    "name": "ipython",
    "version": 3
   },
   "file_extension": ".py",
   "mimetype": "text/x-python",
   "name": "python",
   "nbconvert_exporter": "python",
   "pygments_lexer": "ipython3",
   "version": "3.7.4"
  },
  "varInspector": {
   "cols": {
    "lenName": 16,
    "lenType": 16,
    "lenVar": 40
   },
   "kernels_config": {
    "python": {
     "delete_cmd_postfix": "",
     "delete_cmd_prefix": "del ",
     "library": "var_list.py",
     "varRefreshCmd": "print(var_dic_list())"
    },
    "r": {
     "delete_cmd_postfix": ") ",
     "delete_cmd_prefix": "rm(",
     "library": "var_list.r",
     "varRefreshCmd": "cat(var_dic_list()) "
    }
   },
   "types_to_exclude": [
    "module",
    "function",
    "builtin_function_or_method",
    "instance",
    "_Feature"
   ],
   "window_display": false
  }
 },
 "nbformat": 4,
 "nbformat_minor": 2
}
