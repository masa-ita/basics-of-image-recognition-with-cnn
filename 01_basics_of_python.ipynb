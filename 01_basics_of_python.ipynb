{
 "cells": [
  {
   "cell_type": "markdown",
   "metadata": {},
   "source": [
    "# Pythonの基本と各種ツール\n",
    "\n",
    "ここでは、Jupyter Notebookというツールを使って、Pythonの基本を学んでいきます。"
   ]
  },
  {
   "cell_type": "markdown",
   "metadata": {},
   "source": [
    "## pipコマンドの基本\n",
    "\n",
    "Pythonのパッケージのインストールに`pip`コマンドを使用しました。`pip`コマンドは以下のようなよく使われる機能があります。"
   ]
  },
  {
   "cell_type": "markdown",
   "metadata": {},
   "source": [
    "### インストール済みパッケージの一覧表示"
   ]
  },
  {
   "cell_type": "markdown",
   "metadata": {},
   "source": [
    "```bash\n",
    "pip list\n",
    "```"
   ]
  },
  {
   "cell_type": "markdown",
   "metadata": {},
   "source": [
    "### インターネット上のパッケージ検索"
   ]
  },
  {
   "cell_type": "markdown",
   "metadata": {},
   "source": [
    "```bash\n",
    "pip search numpy\n",
    "```"
   ]
  },
  {
   "cell_type": "markdown",
   "metadata": {},
   "source": [
    "### インターネットからのパッケージインストール\n",
    "パッケージのバージョンを指定する場合には、パッケージ名の後に`==バージョン番号`をつけます。"
   ]
  },
  {
   "cell_type": "markdown",
   "metadata": {},
   "source": [
    "```bash\n",
    "pip install numpy\n",
    "```\n",
    "\n",
    "```bash\n",
    "pip install tensorflow==2.0.0\n",
    "```"
   ]
  },
  {
   "cell_type": "markdown",
   "metadata": {},
   "source": [
    "## pip コマンド実行時の警告について"
   ]
  },
  {
   "cell_type": "markdown",
   "metadata": {},
   "source": [
    "pipコマンドを実行する際に、警告が表示される場合があります。対処方法を簡単に示します。"
   ]
  },
  {
   "cell_type": "markdown",
   "metadata": {},
   "source": [
    "### listコマンドの出力に関するDEPRECATE警告"
   ]
  },
  {
   "cell_type": "markdown",
   "metadata": {},
   "source": [
    "`pip list`コマンドの出力形式が`columns`形式に変わったことから、パッケージ名のあとに（）書きでバージョン番号を表示する従来の形式（`legacy`）か新形式（`columns`）を選択するように促す警告です。\n",
    "\n",
    "`pip.ini`あるいは`pip.conf`ファイルに下記の記述を加えることで、表示されなくなります。\n",
    "```pip.ini\n",
    "[list]\n",
    "format = columns\n",
    "```"
   ]
  },
  {
   "cell_type": "markdown",
   "metadata": {},
   "source": [
    "### pipの新バージョンへのアップグレードを促す警告"
   ]
  },
  {
   "cell_type": "markdown",
   "metadata": {},
   "source": [
    "pipの新バージョンが利用可能となっているため、アップグレードを促す警告です。\n",
    "\n",
    "`pip install --upgrade pip`\n",
    "\n",
    "を実行することで、pip自体をアップグレードできます。"
   ]
  },
  {
   "cell_type": "markdown",
   "metadata": {},
   "source": [
    "# Pythonプログラム作成と実行"
   ]
  },
  {
   "cell_type": "markdown",
   "metadata": {},
   "source": [
    "Pythonはインタプリタ型言語なので、プログラムはテキストファイルです。  \n",
    "したがって任意のテキストエディタでプログラム作成が可能ですが、Python3よりエンコーディングはUTF-8がデフォルトです。  \n",
    "Windowsのメモ帳は今のところ、システムのエンコーディングをUTF-8にしない限りBOMなしのUTF-8ファイルを作成できないので、Python3のプログラム作成には使用できません。  \n",
    "\n",
    "※BOM（Byte Order Mark）複数バイトの文字の場合のバイトの並び順を示すコード"
   ]
  },
  {
   "cell_type": "markdown",
   "metadata": {},
   "source": [
    "## おすすめの開発ツール"
   ]
  },
  {
   "cell_type": "markdown",
   "metadata": {},
   "source": [
    "### Visual Studio Code"
   ]
  },
  {
   "cell_type": "markdown",
   "metadata": {},
   "source": [
    "Microsoftの無料ソースコードエディタ。Windows以外にMac、Linuxにも提供されている。  \n",
    "Microsoftが提供しているPython拡張機能があり、インテリセンスによる保管機能やコードハイライトのほか、リファクタリングやデバッグなどのサポートもある。\n",
    "\n",
    "\n",
    "ダウンロードサイト：  \n",
    "https://code.visualstudio.com\n",
    "\n",
    "\n",
    "Python向け設定方法：\n",
    "Visual Studio Codeの設定「虎の巻」：Python編   \n",
    "http://www.atmarkit.co.jp/ait/articles/1711/24/news034.html\n"
   ]
  },
  {
   "cell_type": "markdown",
   "metadata": {},
   "source": [
    "### Atom"
   ]
  },
  {
   "cell_type": "markdown",
   "metadata": {},
   "source": [
    "Githubが開発したオープンソースのコードエディタ。Visual Studio Codeのお手本となった開発ツールであり、機能も豊富でマルチOS対応。  \n",
    "MicrosoftがGithubを買収したので、VSCodeと統合される？  \n",
    "\n",
    "\n",
    "ダウンロードサイト：  \n",
    "https://atom.io\n",
    "\n",
    "\n",
    "Python向け設定方法：Python入門 初心者でも出来るAtomエディタでの開発方法  \n",
    "http://python-tech.com/python_beginner_on_atom/"
   ]
  },
  {
   "cell_type": "markdown",
   "metadata": {},
   "source": [
    "### PyCharm"
   ]
  },
  {
   "cell_type": "markdown",
   "metadata": {},
   "source": [
    "各種開発ツールを販売する<span style=\"color: red\">JetBrains</span>が開発しているPython用統合開発環境。Jupyter Notebookの編集・実行やWebアプリケーションフレームワークのDjangoなどにも対応している。  \n",
    "有償のフル機能版と無償のコミュニティ版がある。\n",
    "\n",
    "\n",
    "ダウンロードサイト：  \n",
    "https://www.jetbrains.com/pycharm/\n",
    "\n",
    "\n",
    "日本語ヘルプ：  \n",
    "https://pleiades.io/help/pycharm/meet-pycharm.html\n",
    "\n"
   ]
  },
  {
   "cell_type": "markdown",
   "metadata": {},
   "source": [
    "### Visual Studio"
   ]
  },
  {
   "cell_type": "markdown",
   "metadata": {},
   "source": [
    "Visual Studio製品版を使用している場合にはPythonの開発も可能。  （Windows版のみ）\n",
    "\n",
    "\n",
    "Microsoftの解説：  \n",
    "https://docs.microsoft.com/ja-jp/visualstudio/python/overview-of-python-tools-for-visual-studio"
   ]
  },
  {
   "cell_type": "markdown",
   "metadata": {},
   "source": [
    "### Jupyter Notebook （今回はこれを使います）"
   ]
  },
  {
   "cell_type": "markdown",
   "metadata": {},
   "source": [
    "Jupyter NotebookはPythonの高度なインタラクティブ実行環境であるIPythonをWebインターフェイスを通して使えるようにしたもの。  \n",
    "実行結果の出力やグラフなどを一緒に保存できる他、Markdown記法によって簡単なテキストフォーマッティングやTexによる数式記述も可能。  \n",
    "内容を論文等でよく使われるLaTexやPDFとして出力させたり、スライドショーにしたりすることもできる。  \n",
    "Python以外に、RやJuliaといったデータ分析系言語やRuby, Scalaなど40の言語にも対応可能。  \n",
    "データ分析用の用途によく使われており、Microsoft, AWS, Googleのデータ分析関連サービスでも使用されている。\n",
    "\n",
    "\n",
    "本家サイト：  \n",
    "http://jupyter.org\n",
    "\n",
    "\n",
    "非常に簡単な解説：Jupyter Notebook を使ってみよう  \n",
    "https://pythondatascience.plavox.info/pythonの開発環境/jupyter-notebookを使ってみよう\n"
   ]
  },
  {
   "cell_type": "markdown",
   "metadata": {},
   "source": [
    "#### Jupyter Notebookのインストール\n",
    "\n",
    "Pythonが実行できるコマンド環境で下記のようにpipでインストール\n",
    "\n",
    "    pip install jupyter\n",
    "\n",
    "#### Jupyter Notebookの実行\n",
    "\n",
    "Pythonが実行できるコマンド環境で下記のコマンドで実行する。通常デフォルトのブラウザが自動的に起動され、http://localhost:8888 を開く。\n",
    "\n",
    "    jupyter notebook\n",
    "    \n",
    "#### Jupyter Notebookの停止\n",
    "\n",
    "実行中のNotebookを保存しカーネルを停止したあと、jupyter notebookが起動しているコマンドプロンプトでCtrl+Cを押す。停止確認のプロンプトでyを入力して停止させる。"
   ]
  },
  {
   "cell_type": "markdown",
   "metadata": {},
   "source": [
    "#### コード入力補完機能の追加\n",
    "\n",
    "    pip install jupyter_contrib_nbextensions\n",
    "    jupyter contrib nbextension install\n",
    "    \n",
    "\n",
    "上記の設定を行ってJupyter Serverを再起動すると、ファイル一覧の画面に Nbextensions というタブが表示されます。  \n",
    "Hinterlandというチェックボックスを選択すると、コード入力補完機能が有効になります。  "
   ]
  },
  {
   "cell_type": "markdown",
   "metadata": {},
   "source": [
    "## Jupyter Notebookの操作"
   ]
  },
  {
   "cell_type": "markdown",
   "metadata": {},
   "source": [
    "### Cellとモード"
   ]
  },
  {
   "cell_type": "markdown",
   "metadata": {},
   "source": [
    "Jupyter Notebookは複数のCell（セル）で構成されます。  \n",
    "Cellには3つの種類があり、ページ上部のドロップダウンで種類の変更が可能です。  \n",
    "\n",
    "現在選択されているCellは青あるいは緑の枠で示されます。  \n",
    "<span style=\"color: blue\">青はコマンドモード</span>、<span style=\"color: green\">緑は編集モード</span>を意味します。  \n",
    "選択中のCellをダブルクリックすると編集モードに入ることができます。  \n",
    "編集モードから抜けるにはEscキーを押します。\n",
    "\n",
    "#### Code\n",
    "プログラムを記述するCellです。  \n",
    "コードハイライトや、上記の入力補完機能が使用できます。  \n",
    "\n",
    "#### Markdown\n",
    "ブログやWikiソフトで使用されるMarkdown記法が使えるCellです。  \n",
    "実行されると書式が適用されます。  \n",
    "\n",
    "ドロップダウンにはHeadingという選択肢がありますが、これはMarkdownを使用した見出しの挿入機能です。  \n",
    "\n",
    "#### Raw NBConvert\n",
    "入力したものがそのまま保存されるCellです。"
   ]
  },
  {
   "cell_type": "markdown",
   "metadata": {},
   "source": [
    "### Cellの実行"
   ]
  },
  {
   "cell_type": "markdown",
   "metadata": {},
   "source": [
    "Cellを実行するには、ページ上部のRunボタンをクリックするか、キーボードでCtrl+Returnを入力します。  \n",
    "この場合にはアクティブなCellは移動しません。\n",
    "\n",
    "キーボードでShift+Returnを入力すると、選択中のCellが実行され、次のCellがアクティブになります。  \n",
    "一番下のCellでShift+Returnを入力すると、新しいCode Cellが追加され、そのCellが選択されます。\n",
    "\n",
    "Cellメニューを使うと、その他の操作が可能です。"
   ]
  },
  {
   "cell_type": "markdown",
   "metadata": {},
   "source": [
    "### Cellのコピーアンドペーストとキーボードショートカット"
   ]
  },
  {
   "cell_type": "markdown",
   "metadata": {},
   "source": [
    "同じNotebook中では、Cellのコピーアンドペースト、カットアンドペーストが可能です。"
   ]
  },
  {
   "cell_type": "markdown",
   "metadata": {},
   "source": [
    "### Kernelの再起動と停止"
   ]
  },
  {
   "cell_type": "markdown",
   "metadata": {},
   "source": [
    "ブラウザでNotebookを開くと、サーバー側でそのNotebookに結び付けられているプログラム実行環境（Kernel）が起動され、クライアントとWebSocketで接続されます。  \n",
    "ファイルの一覧画面ではKernelが実行中のNotebookがわかるように表示される他、実行中のカーネルのみを表示するRunningタブもあります。  \n",
    "\n",
    "Kernelの実行中は、変数やオブジェクトはKernelに割り当てられたメモリ空間に存在し続けます。  \n",
    "\n",
    "メモリ空間（オブジェクト空間）をリセットしたい場合には、KernelメニューからRestartを選択します。  \n",
    "ただのRestart以外に、Code Cellの出力をクリアしたり、Restart後にすべてのCellを実行するオプションなどがあります。  \n",
    "\n",
    "実行中のCode Cellを止めたい場合には、KernelメニューからInterruptを選択します。  \n",
    "この場合には、プログラムが停止した時点の変数やオブジェクトが残っています。"
   ]
  },
  {
   "cell_type": "markdown",
   "metadata": {},
   "source": [
    "### Notebookの保存と終了"
   ]
  },
  {
   "cell_type": "markdown",
   "metadata": {},
   "source": [
    "編集中のNotebookは定期的に仮保存されCheckpointが1つだけ作られます。  \n",
    "Revert to Checkpoint を使うと、保存された時点に戻すことが可能です。\n",
    "\n",
    "編集結果を保存するには、Save and Checkpointを実行します。\n",
    "\n",
    "Notebookを終了する際には、ブラウザのクローズボタンを使わず、FileメニューからClose and Haltを選択して、Kernelを停止させてください。  \n",
    "もし、停止し忘れた場合には、ファイル一覧ページでShutdownさせることも可能です。\n",
    "\n",
    "Kernel実行中のNotebookを閉じてしまった場合、ブラウザを終了しなければ、同じNotebookを開くことで実行中のKernelに接続できることがあります。"
   ]
  },
  {
   "cell_type": "markdown",
   "metadata": {},
   "source": [
    "# Pythonの基本"
   ]
  },
  {
   "cell_type": "markdown",
   "metadata": {},
   "source": [
    "## データ型"
   ]
  },
  {
   "cell_type": "markdown",
   "metadata": {},
   "source": [
    "### 文字列型\n",
    "\n",
    "文字列型はダブルクォーテーション \" あるいはシングルクォーテーション ' で囲んで表します。\n",
    "\n",
    "どちらも違いがありませんが、原則としてどちらかにそろえるときれいです。\n",
    "\n",
    "文字列の中に、ダブルクォーテーションあるいはシングルクォーテーションを含める場合には、バックスラッシュによるエスケープが必要となります。エスケープを避けるために、もう一方の引用符を使うことができます。"
   ]
  },
  {
   "cell_type": "code",
   "execution_count": null,
   "metadata": {},
   "outputs": [],
   "source": [
    "\"これは文字列です\""
   ]
  },
  {
   "cell_type": "code",
   "execution_count": null,
   "metadata": {},
   "outputs": [],
   "source": [
    "'He said \"Hello\".'"
   ]
  },
  {
   "cell_type": "markdown",
   "metadata": {},
   "source": [
    "データ型を知るにはtype()関数を使います。（関数についての詳細は後述）"
   ]
  },
  {
   "cell_type": "code",
   "execution_count": null,
   "metadata": {},
   "outputs": [],
   "source": [
    "type(\"これは何の型？\")"
   ]
  },
  {
   "cell_type": "markdown",
   "metadata": {},
   "source": [
    "### 数値型\n",
    "\n",
    "数値型には整数型（int）と浮動小数点型（float）が存在します。整数型は計算の必要に応じて浮動小数点型に自動変換されます。"
   ]
  },
  {
   "cell_type": "code",
   "execution_count": null,
   "metadata": {},
   "outputs": [],
   "source": [
    "type(3)"
   ]
  },
  {
   "cell_type": "code",
   "execution_count": null,
   "metadata": {},
   "outputs": [],
   "source": [
    "type(2.5)"
   ]
  },
  {
   "cell_type": "markdown",
   "metadata": {},
   "source": [
    "浮動小数点演算には様々が変換誤差・計算誤差が伴います。Pythonには10進演算をサポートするdecimalモジュールも付属しています。"
   ]
  },
  {
   "cell_type": "markdown",
   "metadata": {},
   "source": [
    "### ブール（論理）型\n",
    "\n",
    "ブール型は True と False という予約語によってあらわされます。"
   ]
  },
  {
   "cell_type": "code",
   "execution_count": null,
   "metadata": {},
   "outputs": [],
   "source": [
    "type(True)"
   ]
  },
  {
   "cell_type": "markdown",
   "metadata": {},
   "source": [
    "## 変数と定数\n",
    "\n",
    "変数名には小文字英数字をアンダースコアでつないだものを使います。"
   ]
  },
  {
   "cell_type": "code",
   "execution_count": null,
   "metadata": {},
   "outputs": [],
   "source": [
    "x = 3.5\n",
    "my_height = 165.3"
   ]
  },
  {
   "cell_type": "markdown",
   "metadata": {},
   "source": [
    "プログラムの中で値が変わることのない定数の名前は大文字英数字とアンダースコアを使います。"
   ]
  },
  {
   "cell_type": "code",
   "execution_count": null,
   "metadata": {},
   "outputs": [],
   "source": [
    "HOST_NAME = \"www.bsnnet.co.jp\""
   ]
  },
  {
   "cell_type": "markdown",
   "metadata": {},
   "source": [
    "## データ構造"
   ]
  },
  {
   "cell_type": "markdown",
   "metadata": {},
   "source": [
    "### リスト\n",
    "\n",
    "Pythonのリストは他の言語の配列のようなものです。リストを定義するには角括弧 [] を使い、要素をカンマ , で区切って表します。"
   ]
  },
  {
   "cell_type": "code",
   "execution_count": null,
   "metadata": {},
   "outputs": [],
   "source": [
    "a1 = [3, 4, 5]"
   ]
  },
  {
   "cell_type": "markdown",
   "metadata": {},
   "source": [
    "リストの要素を取り出すには要素の位置を表す添え字を使います。Pythonの添え字は0から始まります。"
   ]
  },
  {
   "cell_type": "code",
   "execution_count": null,
   "metadata": {},
   "outputs": [],
   "source": [
    "a1[1]"
   ]
  },
  {
   "cell_type": "markdown",
   "metadata": {},
   "source": [
    "Pythonのリストには、異なるデータ型の要素を混在させることができます。"
   ]
  },
  {
   "cell_type": "code",
   "execution_count": null,
   "metadata": {},
   "outputs": [],
   "source": [
    "a2 = [\"名前\", 168.1]"
   ]
  },
  {
   "cell_type": "markdown",
   "metadata": {},
   "source": [
    "リストをリストの要素にするすることも可能です。これにより、多次元の配列を表すことができます。"
   ]
  },
  {
   "cell_type": "code",
   "execution_count": null,
   "metadata": {},
   "outputs": [],
   "source": [
    "a3 = [[1, 2, 3], [4, 5, 6], [7, 8, 9]]\n",
    "a3[1][2]"
   ]
  },
  {
   "cell_type": "markdown",
   "metadata": {},
   "source": [
    "添え字にコロン : を使うことで、添え字の範囲を指定することができます。範囲の右は含まれないことに注意してください。\n",
    "\n",
    "また、コロン : の左側あるいは右側を省略することも可能です。"
   ]
  },
  {
   "cell_type": "code",
   "execution_count": null,
   "metadata": {},
   "outputs": [],
   "source": [
    "a3[0:2]"
   ]
  },
  {
   "cell_type": "code",
   "execution_count": null,
   "metadata": {},
   "outputs": [],
   "source": [
    "a3[:1]"
   ]
  },
  {
   "cell_type": "markdown",
   "metadata": {},
   "source": [
    "### 辞書\n",
    "\n",
    "辞書は、要素と要素の対応関係を保持して利用するためのデータ構造です。Rubyなどの言語でハッシュと呼ばれているものです。\n",
    "\n",
    "辞書はブレース {} とコロン : を使って定義されます。コロンの前の部分をキー key 、後の部分を値 value　と呼びます。\n",
    "\n",
    "辞書を使ってキーを指定して対応する値を得るには、角かっこ [] を使います。"
   ]
  },
  {
   "cell_type": "code",
   "execution_count": null,
   "metadata": {},
   "outputs": [],
   "source": [
    "d1 = {\"太郎\": 4, \"花子\": 5}\n",
    "d1[\"花子\"]"
   ]
  },
  {
   "cell_type": "markdown",
   "metadata": {},
   "source": [
    "### そのほかのデータ構造"
   ]
  },
  {
   "cell_type": "markdown",
   "metadata": {},
   "source": [
    "#### タプル\n",
    "タプルはリストに似ていますが、一度定義したものは変更不可となり、変更操作をすると新たなタプルが生成されます。タプルは後述する関数の戻り値として複数の値を返すのに利用されます。\n",
    "\n",
    "タプルは丸括弧 () を使って定義されます。"
   ]
  },
  {
   "cell_type": "code",
   "execution_count": null,
   "metadata": {},
   "outputs": [],
   "source": [
    "tupple = (3, 'a')\n",
    "x, y = tupple\n",
    "print(x)\n",
    "print(y)"
   ]
  },
  {
   "cell_type": "markdown",
   "metadata": {},
   "source": [
    "#### セット（集合）  \n",
    "セットは集合を表すデータ構造で、ブレース {} を使って定義されます。セットの要素には重複が許されないという特徴があります。"
   ]
  },
  {
   "cell_type": "code",
   "execution_count": null,
   "metadata": {},
   "outputs": [],
   "source": [
    "set_a = {'cat', 'dog', 'horse'}\n",
    "set_b = {'flog', 'cat'}\n",
    "print(set_a.intersection(set_b))\n",
    "print(set_b.union(set_a))\n",
    "print(set_a.difference(set_b))"
   ]
  },
  {
   "cell_type": "markdown",
   "metadata": {},
   "source": [
    "## 演算子"
   ]
  },
  {
   "cell_type": "markdown",
   "metadata": {},
   "source": [
    "### 四則演算\n",
    "四則演算は他の言語とほぼ同じ記号が利用されます。  \n",
    "\n",
    "<pre><span style=\"color: red\">\n",
    "+ 加算  \n",
    "- 減算  \n",
    "* 乗算  \n",
    "/ 除算\n",
    "</span>\n",
    "</pre>"
   ]
  },
  {
   "cell_type": "code",
   "execution_count": null,
   "metadata": {},
   "outputs": [],
   "source": [
    "8 + 4 * 3 - 1 / 3"
   ]
  },
  {
   "cell_type": "markdown",
   "metadata": {},
   "source": [
    "### その他の演算\n",
    "#### べき乗\n",
    "べき乗は ** を演算子として使用します。\n",
    "\n",
    "#### 整数の除算  \n",
    "除算の結果を整数として得たい場合には // 演算子を使用します。\n",
    "除算の剰余を得るには % 演算子を使用します。 　\n",
    "\n",
    "#### 代入演算子 \n",
    "CやJava言語にあるインクリメント x++ デクリメント x-- などの代わりに、代入演算子があります。\n",
    "\n",
    "a += b は a = a + b と同じ意味を持ちます。x++ は x += 1 と書くことができます。  \n",
    "同様に -= *= /= などの演算子も利用可能です。"
   ]
  },
  {
   "cell_type": "markdown",
   "metadata": {},
   "source": [
    "## 基本構文"
   ]
  },
  {
   "cell_type": "markdown",
   "metadata": {},
   "source": [
    "Pythonで分岐や繰り返しを表す構文を示します。  \n",
    "Pythonではコードのブロックをインデントを用いて表します。他の言語のような {} や　begin end は必要ありません。"
   ]
  },
  {
   "cell_type": "markdown",
   "metadata": {},
   "source": [
    "### if文\n",
    "条件分岐は if elif elseを用いて表します。\n",
    "\n",
    "    if 条件1:  \n",
    "        処理1  \n",
    "    elif 条件2:  \n",
    "        処理2  \n",
    "    else:  \n",
    "        処理3  \n",
    "\n",
    "### 比較演算子\n",
    "    a == b           # a が b と等しい  \n",
    "    a != b           # a が b と異なる  \n",
    "    a < b            # a が b よりも小さい  \n",
    "    a > b            # a が b よりも大きい  \n",
    "    a <= b           # a が b 以下である  \n",
    "    a >= b           # a が b 以上である  \n",
    "    a <> b           # a が b と異なる  \n",
    "    a is b           # a が b と等しい  \n",
    "    a is not b       # a が b と異なる  \n",
    "    a in b           # a が b に含まれる  \n",
    "    a not in b       # a が b に含まれない  \n",
    "### 論理演算子\n",
    "    a and b         # a も b も真であれば真\n",
    "    a or b          # a または b が真であれば真\n",
    "    not a           # a が偽であれば真\n",
    "### 真理値の扱い\n",
    "Pythonの場合、True/False　のリテラル以外に次のような判定が行われることに注意が必要です。\n",
    "\n",
    "#### 真（True)として扱われるもの\n",
    "オブジェクトは既定で真として扱われる。  \n",
    "ただし、__bool__()メソッドが定義されていてFalseを返した場合、或いは、__len__()メソッドが定義されていてゼロを返した場合には偽として扱われる。\n",
    "\n",
    "#### 偽（False）として扱われるもの\n",
    "+ None または False\n",
    "+ 数値でゼロを表すもの\n",
    "+ シーケンスまたはコレクション（文字列、リスト、辞書、タプル、セット等）で要素が空のもの"
   ]
  },
  {
   "cell_type": "markdown",
   "metadata": {},
   "source": [
    "### while文\n",
    "条件が真の間、処理を繰り返す制御構造。\n",
    "\n",
    "    while 条件:\n",
    "        処理\n"
   ]
  },
  {
   "cell_type": "code",
   "execution_count": null,
   "metadata": {},
   "outputs": [],
   "source": [
    "i = 0\n",
    "while i < 10:\n",
    "    print(i)\n",
    "    i += 1"
   ]
  },
  {
   "cell_type": "markdown",
   "metadata": {},
   "source": [
    "### for文\n",
    "シーケンス（文字列、タプル、リスト）やその他の反復可能（iterable）なオブジェクトの要素ごとに処理を繰り返す場合に使用する。\n",
    "\n",
    "    for ターゲットリスト in 式リスト:\n",
    "        処理"
   ]
  },
  {
   "cell_type": "code",
   "execution_count": null,
   "metadata": {},
   "outputs": [],
   "source": [
    "for letter in ['a', 'b', 'c']:\n",
    "    print(letter)"
   ]
  },
  {
   "cell_type": "markdown",
   "metadata": {},
   "source": [
    "辞書（ディクショナリ）の場合には、keyが取得されます。  "
   ]
  },
  {
   "cell_type": "code",
   "execution_count": null,
   "metadata": {},
   "outputs": [],
   "source": [
    "my_dict = {'太郎': 99, '二郎': 88, '花子': 100}\n",
    "\n",
    "for key in my_dict:\n",
    "    print(key)"
   ]
  },
  {
   "cell_type": "markdown",
   "metadata": {},
   "source": [
    "valueを取り出したい場合には、.values()メソッドを使用します。"
   ]
  },
  {
   "cell_type": "code",
   "execution_count": null,
   "metadata": {},
   "outputs": [],
   "source": [
    "for value in my_dict.values():\n",
    "    print(value)"
   ]
  },
  {
   "cell_type": "markdown",
   "metadata": {},
   "source": [
    "keyとvalueのペアを取り出したい場合には、.items()メソッドを使用します。"
   ]
  },
  {
   "cell_type": "code",
   "execution_count": null,
   "metadata": {},
   "outputs": [],
   "source": [
    "for key,value in my_dict.items():\n",
    "    print(key, ':', value)"
   ]
  },
  {
   "cell_type": "markdown",
   "metadata": {},
   "source": [
    "### range()関数\n",
    "整数の列を返すイテレータです。\n",
    "\n",
    "    range(n)           # 0から始まりn-1までを返す  \n",
    "    range(n,m)         # nから始まりm-1までを返す  \n",
    "    range(n,m,s)       # nから始まりsごとにm未満である整数を返す  \n",
    "    "
   ]
  },
  {
   "cell_type": "code",
   "execution_count": null,
   "metadata": {},
   "outputs": [],
   "source": [
    "for i in range(10):\n",
    "    print(i)"
   ]
  },
  {
   "cell_type": "markdown",
   "metadata": {},
   "source": [
    "## 内包表記"
   ]
  },
  {
   "cell_type": "markdown",
   "metadata": {},
   "source": [
    "### リスト内包表記\n",
    "繰り返し可能オブジェクトの全要素あるいは一部の要素に対して処理を加えた結果を新たなリストとして生成する簡潔な記法です。"
   ]
  },
  {
   "cell_type": "code",
   "execution_count": null,
   "metadata": {},
   "outputs": [],
   "source": [
    "numbers = [1, 2, 3, 4, 5]\n",
    "power2 = [ x**2 for x in numbers]\n",
    "power2"
   ]
  },
  {
   "cell_type": "markdown",
   "metadata": {},
   "source": [
    "## 例外処理"
   ]
  },
  {
   "cell_type": "markdown",
   "metadata": {},
   "source": [
    "プログラムの実行中に起きたエラーでプログラムが中断することを防ぐには、例外処理を記述します。  \n",
    "Pythonの例外処理の記述形式は次の通りです、\n",
    "\n",
    "<pre>\n",
    "try:\n",
    "    例外を捕捉したい処理ブロック\n",
    "except 例外クラス名 as 変数名:\n",
    "    指定された例外が起きた場合の処理\n",
    "else:\n",
    "    指定された例外が発生しなかった場合の処理\n",
    "finally:\n",
    "    例外が発生してもしなくても実行したい処理\n",
    "</pre>"
   ]
  },
  {
   "cell_type": "markdown",
   "metadata": {},
   "source": [
    "## 関数"
   ]
  },
  {
   "cell_type": "markdown",
   "metadata": {},
   "source": [
    "関数は、定義されたひとかたまりの処理で、戻り値を持つ場合と、そうでない場合もある。  \n",
    "Pythonに組み込まれた関数もあるが、ユーザーが自分で関数を定義することができる。  \n",
    "\n",
    "    def user_func(param1, param2, named_param1=None, named_param2=0, **args):\n",
    "        関数本体\n",
    "        return xxx\n",
    "\n",
    "関数の仮引数には、固定（位置指定）引数、名前付き引数がある。名前付き引数には省略時の値を定義することができる。  \n",
    "仮引数で定義されていない引数を受け取るためのスター引数、ダブルスター引数も利用可能。"
   ]
  },
  {
   "cell_type": "code",
   "execution_count": null,
   "metadata": {},
   "outputs": [],
   "source": [
    "def bmi(height=160, weight=50):\n",
    "    if height > 0:\n",
    "        bmi_value = weight / (height / 100) ** 2\n",
    "    else:\n",
    "        bmi_value = None\n",
    "    return bmi_value\n",
    "\n",
    "bmi(165, 60)"
   ]
  },
  {
   "cell_type": "markdown",
   "metadata": {},
   "source": [
    "## クラス"
   ]
  },
  {
   "cell_type": "markdown",
   "metadata": {},
   "source": [
    "クラスの定義例は次のようになります。\n",
    "\n",
    "    class MyClass(ParentClass):                 # 継承の際にはカッコ内に親クラスを記述する\n",
    "        def __init__(self, param1, param2): # パラメータを受け取りインスタンスを初期化するメソッド\n",
    "            self.var1 = param1\n",
    "            self.var2 = param2\n",
    "        \n",
    "        def my_method(self, my_var1):\n",
    "            value = my_var1 * self.var1 + self.var2\n",
    "            return value"
   ]
  },
  {
   "cell_type": "code",
   "execution_count": null,
   "metadata": {},
   "outputs": [],
   "source": [
    "class MyClass():\n",
    "        def __init__(self, param1, param2): \n",
    "            self.var1 = param1\n",
    "            self.var2 = param2\n",
    "        \n",
    "        def my_method(self, my_var1):\n",
    "            value = my_var1 * self.var1 + self.var2\n",
    "            return value\n",
    "        \n",
    "my_instance = MyClass(2, 3)\n",
    "my_instance.my_method(4)"
   ]
  },
  {
   "cell_type": "markdown",
   "metadata": {},
   "source": [
    "## モジュール"
   ]
  },
  {
   "cell_type": "markdown",
   "metadata": {},
   "source": [
    "他のファイルにある関数やクラスを利用するにはimport文を使用します。  \n",
    "import文には次のようなバリエーションがあります。\n",
    "\n",
    "    import モジュール名  \n",
    "    from モジュール名 import 関数名・クラス名  \n",
    "    import モジュール名 as 別名  \n",
    "\n",
    "\n"
   ]
  },
  {
   "cell_type": "markdown",
   "metadata": {},
   "source": [
    "## ファイルの入出力"
   ]
  },
  {
   "cell_type": "markdown",
   "metadata": {},
   "source": [
    "### テキストファイルの読み込み"
   ]
  },
  {
   "cell_type": "code",
   "execution_count": null,
   "metadata": {},
   "outputs": [],
   "source": [
    "f = open('sample.txt', 'r', encoding='shift_jis')\n",
    "txt = f.read()\n",
    "f.close()\n",
    "txt"
   ]
  },
  {
   "cell_type": "markdown",
   "metadata": {},
   "source": [
    "### テキストファイルの書き出し"
   ]
  },
  {
   "cell_type": "code",
   "execution_count": null,
   "metadata": {},
   "outputs": [],
   "source": [
    "f = open('output.txt', 'w', encoding='utf-8')\n",
    "f.write('このファイルはPythonで出力されました。\\n')\n",
    "f.write('このファイルの文字コードはUTF-8です。\\n')\n",
    "f.close()"
   ]
  },
  {
   "cell_type": "markdown",
   "metadata": {},
   "source": [
    "### with文を使ったファイル操作\n",
    "with文を使うことで、確実にファイルをクローズすることができます。"
   ]
  },
  {
   "cell_type": "code",
   "execution_count": null,
   "metadata": {},
   "outputs": [],
   "source": [
    "with open('output.txt', 'r', encoding='utf-8') as f:\n",
    "    txt = f.read()\n",
    "print(txt)"
   ]
  },
  {
   "cell_type": "markdown",
   "metadata": {},
   "source": [
    "## Pythonのコーディング規約"
   ]
  },
  {
   "cell_type": "markdown",
   "metadata": {},
   "source": [
    "PythonにはPEP8と呼ばれるコーディング規約があります。  \n",
    "コーディングの際に参考にすると良いでしょう。\n",
    "\n",
    "http://pep8-ja.readthedocs.io/ja/latest//\n",
    "\n",
    "コーディング規約に沿っているかどうかをチェックするツールなどもあります。"
   ]
  },
  {
   "cell_type": "markdown",
   "metadata": {},
   "source": [
    "# 練習問題"
   ]
  },
  {
   "cell_type": "markdown",
   "metadata": {},
   "source": [
    "## FizzBuss"
   ]
  },
  {
   "cell_type": "markdown",
   "metadata": {},
   "source": [
    "簡単な練習問題をやってみましょう。いわゆるFizzBuss問題です。  \n",
    "下記のようなルールに従って1から指定された数nまでを出力（print）する関数 fizzbuzz(n)を定義してください。  \n",
    "\n",
    "- iが3で割り切れる場合にはFizzと出力する。\n",
    "- iが5で割り切れる場合にはBuzzと出力する。\n",
    "- iが3でも5でも割り切れる場合にはFizzBuzzと出力する。\n",
    "\n",
    "上記のいずれでもない場合にはiを出力する。"
   ]
  },
  {
   "cell_type": "code",
   "execution_count": null,
   "metadata": {},
   "outputs": [],
   "source": []
  }
 ],
 "metadata": {
  "kernelspec": {
   "display_name": "Python 3",
   "language": "python",
   "name": "python3"
  },
  "language_info": {
   "codemirror_mode": {
    "name": "ipython",
    "version": 3
   },
   "file_extension": ".py",
   "mimetype": "text/x-python",
   "name": "python",
   "nbconvert_exporter": "python",
   "pygments_lexer": "ipython3",
   "version": "3.7.5"
  }
 },
 "nbformat": 4,
 "nbformat_minor": 2
}
