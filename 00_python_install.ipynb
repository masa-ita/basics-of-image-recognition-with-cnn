{
 "cells": [
  {
   "cell_type": "markdown",
   "metadata": {},
   "source": [
    "# Pythonのインストール"
   ]
  },
  {
   "cell_type": "markdown",
   "metadata": {},
   "source": [
    "## 事前準備まとめ\n",
    "\n",
    "1. Python最新版インストール\n",
    "    - Python 3.7.4 64bit版を想定しています。\n",
    "    - Python 3.6.8以上であれば動作するソースコードになっているので、すでにPython 3.6.8以上のバージョンがインストールされているのであれば、無理して最新版にする必要はありません。\n",
    "    - Anaconda版はサポート外です。もしAnaconda版がインストールされている方は、Anaconda版をアンインストールしてPython公式サイト版をインストールしていただくか、資料内の文言をAnacondaのコマンドに読み替えてAnaconda版をそのまま使用してください。ただしサポートできない可能性があります。\n",
    "2. 作業フォルダの作成\n",
    "    - Windows: `C:\\src\\ai_innov\\20190829\\`\n",
    "    - macOS / Linux: `~/src/ai_innov/20190829/`\n",
    "3. Python仮想環境の作成と有効化\n",
    "    - Windows:\n",
    "        - `cd C:\\src\\ai_innov\\20190829\\`\n",
    "        - `python -m venv env`\n",
    "        - `env\\Scripts\\activate`\n",
    "    - macOS / Linux:\n",
    "        - `cd ~/src/ai_innov/20190829/`\n",
    "        - `python3 -m venv env`\n",
    "        - `source env/bin/activate`\n",
    "4. Python仮想環境上でのPythonライブラリアップグレード\n",
    "    - `pip install --upgrade pip`\n",
    "    - `pip install --upgrade setuptools`\n",
    "5. Python仮想環境上でのPythonライブラリインストール\n",
    "    - `pip install numpy`\n",
    "    - `pip install matplotlib`\n",
    "    - `pip install pillow`\n",
    "    - `pip install scikit-learn`\n",
    "    - `pip install tensorflow==2.0.0-beta1`\n",
    "    - `pip install jupyter`"
   ]
  },
  {
   "cell_type": "markdown",
   "metadata": {},
   "source": [
    "## すでにPythonがインストールされているか確認\n",
    "\n",
    "今回皆さんが設定するPCに、すでにPythonがインストールされているかもしれません。\n",
    "\n",
    "コマンドプロンプトやターミナルを起動して、\n",
    "以下のコマンドを入力してPythonが使えるか確認しましょう。\n",
    "\n",
    "```bash\n",
    "python --version\n",
    "```\n",
    "\n",
    "`Python 3.7.4`とPythonのバージョン番号が表示されたでしょうか。\n",
    "バージョン番号が`3.6.8`以降で表示されている方は、Pythonのインストール作業は不要です。仮想環境作成に進んでください。\n",
    "\n",
    "- バージョン番号が表示されない\n",
    "    - コマンドの打ち間違いがなければ、Pythonがインストールされていない可能性があります。Pythonのインストール作業をしましょう。\n",
    "- バージョン番号が古い\n",
    "    - 古いバージョンがインストールされています。Windowsの方は、最新版のPython 3.7.4をインストールしましょう。\n",
    "    - macOSやLinuxの方は、OSに最初からPython 2.7がインストールされているはずです。以下のコマンドでPython 3系が使えるか確認しましょう。\n",
    "        - `python3 --version`\n",
    "        - バージョン番号が表示されない、もしくはバージョン番号が古い場合は最新版のPython 3.7.4をインストールしましょう。"
   ]
  },
  {
   "cell_type": "markdown",
   "metadata": {},
   "source": [
    "## 今回使用するディープラーニングのライブラリについて\n",
    "\n",
    "ディープラーニングを実装するために便利なライブラリがいくつかありますが、\n",
    "今回はTensorFlowを使います。\n",
    "\n",
    "TensorFlowは最新安定版が1.14.0ですが、今回は次期バージョンの2.0.0のベータ版 (2.0.0-beta1) をいち早く使います。\n",
    "2.0.0は現在開発が進められており、2019年中に正式にリリースされる可能性があります。\n",
    "\n",
    "TensorFlowの安定版は、Python 3.7がリリースされてからもしばらくはPython 3.7に対応していませんでしたが、\n",
    "現在はPython 3.7にも対応しており、簡単にインストールが可能です。\n",
    "2.0.0もPython 3.7に対応していますので、簡単にインストールが可能です。\n",
    "\n",
    "なお、TensorFlowは64bit版のPythonでなければ動作しません。32bit版のPythonである場合、TensorFlowのインストール時にエラーとなります。\n",
    "すでにインストールされたPythonが32bit版か64bit版かを確認したい場合は、以下のPythonコードを実行して、`True`と表示されていれば64bit版です。"
   ]
  },
  {
   "cell_type": "code",
   "execution_count": 1,
   "metadata": {},
   "outputs": [
    {
     "data": {
      "text/plain": [
       "True"
      ]
     },
     "execution_count": 1,
     "metadata": {},
     "output_type": "execute_result"
    }
   ],
   "source": [
    "import sys\n",
    "sys.maxsize > 2 ** 32   # \"True\"と表示されれば64bit版、\"False\"を表示されれば32bit版"
   ]
  },
  {
   "cell_type": "markdown",
   "metadata": {},
   "source": [
    "## Anaconda（今回は使用しません）"
   ]
  },
  {
   "cell_type": "markdown",
   "metadata": {},
   "source": [
    "Pythonにはデータ分析用の様々なライブラリパッケージやGUIの開発ツール、さらにはPythonだけでなくR言語の実行環境などを統合したAnacondaというオープンソースディストリビューションが存在します。  \n",
    "<br/>\n",
    "https://www.anaconda.com  \n",
    "<br/>\n",
    "よく使うライブラリやツールがひとまとめになっているため環境構築が簡単で、入門書ではよく利用されますが、パッケージが数Gバイトと巨大であることと、後述するライブラリ管理がPython標準のツールであるpipとは異なるcondaというツールが使用され、混在する環境となってしまうことなどから、今回はAnacondaを使用しない実行環境を例にとります。"
   ]
  },
  {
   "cell_type": "markdown",
   "metadata": {},
   "source": [
    "## Pythonインストーラ"
   ]
  },
  {
   "cell_type": "markdown",
   "metadata": {},
   "source": [
    "今回使用するTensorFlowは64bit版でのみ動作するため、Pythonも64bit版をインストールする必要があります。\n",
    "\n",
    "Pythonのダウンロードページ\n",
    "\n",
    "https://www.python.org/downloads/\n",
    "\n",
    "から \"Looking for a specific release?\"の中のRelease versionが\"Python 3.7.4\"　のリンクをクリックします。  \n",
    "\n",
    "ページ上部にある\"Download Python 3.7.4\"ボタンや、Downloadsメニューから\"Python 3.7.4\"ボタンはクリックしないでください。ダウンロードされるインストーラファイルが32bitのものであり、今回使用するTensorFlowがインストールできません。"
   ]
  },
  {
   "cell_type": "markdown",
   "metadata": {},
   "source": [
    "![ダウンロード画像１](images/download_python_installer1_1.png  \"インストール１\")"
   ]
  },
  {
   "cell_type": "markdown",
   "metadata": {},
   "source": [
    "![ダウンロード画像2](images/download_python_installer2_1.png  \"インストール2\")"
   ]
  },
  {
   "cell_type": "markdown",
   "metadata": {},
   "source": [
    "![ダウンロード画像3](images/download_python_installer3-1_1.png  \"インストール3\")"
   ]
  },
  {
   "cell_type": "markdown",
   "metadata": {},
   "source": [
    "リンク先のページのFilesというテーブルから、インストーラファイルのリンクをクリックして、インストーラファイルをダウンロードします。\n",
    "\n",
    "- Windows: \"Windows x86-64 executable installer\"\n",
    "- macOS: \"macOS 64-bit/32-bit installer\"\n",
    "- Linux: Gzipped source tarball\n"
   ]
  },
  {
   "cell_type": "markdown",
   "metadata": {},
   "source": [
    "![ダウンロード画像4](images/download_python_installer4_1.png  \"インストール4\")"
   ]
  },
  {
   "cell_type": "markdown",
   "metadata": {},
   "source": [
    "## Windows版インストール"
   ]
  },
  {
   "cell_type": "markdown",
   "metadata": {},
   "source": [
    "ダウンロードしたファイルを実行します。\n",
    "\n",
    "ダイアログの下の\"Add Python 3.7 to Path\"のチェックボックスをクリックします。\n",
    "その後、ダイアログの\"Install Now\"ボタンをクリックします。"
   ]
  },
  {
   "cell_type": "markdown",
   "metadata": {},
   "source": [
    "![インストール画像1](images/install_python_windows1_1.png \"インストール1\")"
   ]
  },
  {
   "cell_type": "markdown",
   "metadata": {},
   "source": [
    "「このアプリがデバイスに変更を加えることを許可しますか？」という確認ダイアログが表示されます。  \n",
    "「はい」をクリックして許可を与えます。"
   ]
  },
  {
   "cell_type": "markdown",
   "metadata": {},
   "source": [
    "![インストール画像2](images/install_python_windows2.png \"インストール2\")"
   ]
  },
  {
   "cell_type": "markdown",
   "metadata": {},
   "source": [
    "インストールが始まります。"
   ]
  },
  {
   "cell_type": "markdown",
   "metadata": {},
   "source": [
    "![インストール画像3](images/install_python_windows3.png \"インストール3\")"
   ]
  },
  {
   "cell_type": "markdown",
   "metadata": {},
   "source": [
    "インストールが終了したら、\"Close\" ボタンをクリックしてインストーラを終了します。"
   ]
  },
  {
   "cell_type": "markdown",
   "metadata": {},
   "source": [
    "![インストール画像4](images/install_python_windows4.png \"インストール4\")"
   ]
  },
  {
   "cell_type": "markdown",
   "metadata": {},
   "source": [
    "コマンドプロンプト（もしくはPowerShell）を起動して、以下のコマンドを実行しましょう。\n",
    "\n",
    "<code>python --version</code>\n",
    "\n",
    "\"Python 3.7.4\"と、Pythonのバージョンが表示されれば、インストール完了です。"
   ]
  },
  {
   "cell_type": "markdown",
   "metadata": {},
   "source": [
    "## macOS版インストール"
   ]
  },
  {
   "cell_type": "markdown",
   "metadata": {},
   "source": [
    "macOSの場合は、すでにPythonがインストール済なのですが、Pythonのバージョンが2.7です。今回はPython3.6以上を想定しているため、要件を満たしていません。インストール方法はいくつかありますが、すでにHomebrewがインストール済みであれば、`brew install python3`コマンドを実行することで、最新版のPythonを簡単にインストールできます。HomebrewでインストールしたPyhton3でも問題なく動作します。\n",
    "\n",
    "ここでは、上記公式サイトからダウンロードした、macOS向けPythonインストーラを使った方法を掲載しています。"
   ]
  },
  {
   "cell_type": "markdown",
   "metadata": {},
   "source": [
    "ダウンロードしたファイルを実行したら、基本的に画面の指示通りに「続ける」ボタンと「インストール」ボタンを押して進めます。\n",
    "途中パスワードの入力を求められたら、ログイン中のユーザのパスワードを入力して進めましょう。\n",
    "以下の画面になったらインストーラを閉じます。\n",
    "\n",
    "![インストール終了画面](./images/install_python_macOS8.png)"
   ]
  },
  {
   "cell_type": "markdown",
   "metadata": {},
   "source": [
    "ターミナルを起動して、以下のコマンドを実行しましょう。\n",
    "\n",
    "<code>python3 --version</code>\n",
    "\n",
    "\"Python 3.7.4\"と、Pythonのバージョンが表示されれば、インストール完了です。"
   ]
  },
  {
   "cell_type": "markdown",
   "metadata": {},
   "source": [
    "## Linux (Ubuntu) 版インストール"
   ]
  },
  {
   "cell_type": "markdown",
   "metadata": {},
   "source": [
    "Linuxの場合は、上記公式サイトからソースコードをダウンロードしてインストールする方法のほか、`apt`コマンドでインストールする方法もあります。\n",
    "\n",
    "ここでは、上記公式サイトからソースコードをダウンロードしてインストールする方法を掲載しています。\n",
    "Linuxは Ubuntu 18.04 を想定しています。"
   ]
  },
  {
   "cell_type": "markdown",
   "metadata": {},
   "source": [
    "まずインストールに必要なライブラリをインストールします。\n",
    "\n",
    "```bash\n",
    "sudo apt update\n",
    "\n",
    "sudo apt install build-essential libbz2-dev libdb-dev \\\n",
    "  libreadline-dev libffi-dev libgdbm-dev liblzma-dev \\\n",
    "  libncursesw5-dev libsqlite3-dev libssl-dev \\\n",
    "  zlib1g-dev uuid-dev tk-dev\n",
    "```\n",
    "\n",
    "ダウンロードしたファイルを解凍します。\n",
    "\n",
    "```bash\n",
    "tar xzf Python-3.7.4.tgz\n",
    "```\n",
    "\n",
    "解凍したら、以下のコマンドでインストールします。\n",
    "\n",
    "```bash\n",
    "cd Python-3.7.4\n",
    "./configure --enable-shared\n",
    "make\n",
    "sudo make install\n",
    "sudo sh -c \"echo '/usr/local/lib' > /etc/ld.so.conf.d/custom_python3.conf\"\n",
    "sudo ldconfig\n",
    "```\n",
    "\n",
    "ビルドしたコマンドは`/usr/local/bin`にインストールされ、`python3.7`もしくは`python3`で起動できます。\n",
    "\n",
    "以下のコマンドを実行して確認しましょう。\n",
    "\n",
    "```bash\n",
    "python3 --version\n",
    "```\n",
    "\n",
    "\"Python 3.7.4\"と、Pythonのバージョンが表示されれば、インストール完了です。"
   ]
  },
  {
   "cell_type": "markdown",
   "metadata": {},
   "source": [
    "# 仮想環境 venv の作成"
   ]
  },
  {
   "cell_type": "markdown",
   "metadata": {},
   "source": [
    "pythonを使ったデータ分析や機械学習では、様々なオープンソースのソフトウェアパッケージを利用することになります。  \n",
    "それぞれのパッケージは別々に開発され、機能やAPIが変更されることがあります。また、パッケージには他のパッケージに依存するものがあるため、バージョンが異なると正しく実行できないことがあります。  \n",
    "\n",
    "複数のプロジェクトを開発している場合、スタート時期によってライブラリのバージョンが変わることがあるため、プロジェクトごとにパッケージを管理できる方法があると便利です。  \n",
    "Python 3からはこうした仮想環境を作成するためのvenvというツールが付属しています。"
   ]
  },
  {
   "cell_type": "markdown",
   "metadata": {},
   "source": [
    "## 作業フォルダの作成"
   ]
  },
  {
   "cell_type": "markdown",
   "metadata": {},
   "source": [
    "まず、今回の講座で使用するソースコードやデータを置いておく、作業フォルダを作成しましょう。作業フォルダ上に仮想環境を構築します。\n",
    "Windowsの方は`C:¥src¥ai_innov¥20190829`に、macOS/Linuxの方は`~/src/ai_innov/20190829`にフォルダを作成しましょう。\n",
    "\n",
    "- 今回の作業フォルダ\n",
    "    - Windows: `C:¥src¥ai_innov¥20190829`\n",
    "    - macOS / Linux: `~/src/ai_innov/20190829`\n",
    "\n",
    "#### Windowsの場合\n",
    "\n",
    "エクスプローラで作成しても構いません。以下はコマンドプロンプト（もしくはPowerShell）で作成する際のコマンドです。\n",
    "\n",
    "`mkdir C:¥src¥ai_innov¥20190829`\n",
    "\n",
    "作業フォルダを作成したら、コマンドプロンプトの`cd`コマンドで作業フォルダに移動しましょう。\n",
    "\n",
    "`cd C:¥src¥ai_innov¥20190829`\n",
    "\n",
    "#### macOS / Linuxの場合\n",
    "\n",
    "`mkdir -p ~/src/ai_innov/20190829`\n",
    "\n",
    "作業フォルダを作成したら、`cd`コマンドで作業フォルダに移動しましょう。\n",
    "\n",
    "`cd ~/src/ai_innov/20190829`\n",
    "\n",
    "\n",
    "Windows/macOS/Linuxとも、以降の説明では、作業フォルダ上に移動した状態のコマンド操作を行います。"
   ]
  },
  {
   "cell_type": "markdown",
   "metadata": {},
   "source": [
    "## 仮想環境の作成\n",
    "\n",
    "作業フォルダ上で以下のコマンドを実行します。\n",
    "\n",
    "#### Windowsの場合\n",
    "\n",
    "`python -m venv env`\n",
    "\n",
    "#### macOS / Linuxの場合\n",
    "\n",
    "`python3 -m venv env`\n",
    "\n",
    "このコマンドを実行すると、作業フォルダに仮想環境名\"env\"のフォルダが作成され、必要なファイルがコピーされます。  "
   ]
  },
  {
   "cell_type": "markdown",
   "metadata": {},
   "source": [
    "## 仮想環境の有効化"
   ]
  },
  {
   "cell_type": "markdown",
   "metadata": {},
   "source": [
    "#### Windowsの場合\n",
    "\n",
    "`env¥Scripts¥activate`\n",
    "\n",
    "を実行します。"
   ]
  },
  {
   "cell_type": "markdown",
   "metadata": {},
   "source": [
    "#### macOS/Linuxの場合\n",
    "\n",
    "`source env/bin/activate`\n",
    "\n",
    "を実行します。\n",
    "\n",
    "仮想環境が有効になると、プロンプトに`(env)`と仮想環境名が表示されます。"
   ]
  },
  {
   "cell_type": "markdown",
   "metadata": {},
   "source": [
    "## （補足）仮想環境の無効化\n",
    "\n",
    "#### Windows/macOS/Linux 共通\n",
    "\n",
    "`deactivate`\n",
    "\n",
    "コマンドを実行します。プロンプトから仮想環境名`(env)`の表示がなくなれば、無効化が完了します。"
   ]
  },
  {
   "cell_type": "markdown",
   "metadata": {},
   "source": [
    "## （補足）仮想環境の削除\n",
    "\n",
    "上記の無効化を実行した後、仮想環境名\"env\"のディレクトリを削除します。"
   ]
  },
  {
   "cell_type": "markdown",
   "metadata": {},
   "source": [
    "## pip  コマンドによるパッケージのインストールと管理"
   ]
  },
  {
   "cell_type": "markdown",
   "metadata": {},
   "source": [
    "今回使用するパッケージを事前にインストールしておきます。\n",
    "\n",
    "コマンドプロンプトやターミナルを開き、作業フォルダに`cd`コマンドで移動した後、仮想環境を有効化します。\n",
    "仮想環境が有効化されている状態で、以下の`pip install`コマンドを**1行ずつ**実行しましょう。"
   ]
  },
  {
   "cell_type": "markdown",
   "metadata": {},
   "source": [
    "### 既存のパッケージのアップグレード\n",
    "\n",
    "```bash\n",
    "pip install --upgrade pip\n",
    "pip install --upgrade setuptools\n",
    "```\n",
    "\n",
    "### パッケージの新規インストール\n",
    "\n",
    "```bash\n",
    "pip install numpy\n",
    "pip install matplotlib\n",
    "pip install pillow\n",
    "pip install scikit-learn\n",
    "pip install tensorflow==2.0.0-beta1\n",
    "pip install jupyter\n",
    "```"
   ]
  },
  {
   "cell_type": "markdown",
   "metadata": {},
   "source": [
    "## pip コマンド実行時の警告について"
   ]
  },
  {
   "cell_type": "markdown",
   "metadata": {},
   "source": [
    "pipコマンドを実行する際に、警告が表示される場合があります。対処方法を簡単に示します。"
   ]
  },
  {
   "cell_type": "markdown",
   "metadata": {},
   "source": [
    "### pipの新バージョンへのアップグレードを促す警告"
   ]
  },
  {
   "cell_type": "markdown",
   "metadata": {},
   "source": [
    "pipの新バージョンが利用可能となっているため、アップグレードを促す警告です。\n",
    "\n",
    "`pip install --upgrade pip`\n",
    "\n",
    "を実行することで、pip自体をアップグレードできます。"
   ]
  },
  {
   "cell_type": "markdown",
   "metadata": {},
   "source": [
    "## 確認\n",
    "\n",
    "最後にパッケージがインストールできたか確認しましょう。\n",
    "\n",
    "仮想環境を有効化した状態で作業フォルダに移動し、\n",
    "以下のコマンドを実行します。\n",
    "\n",
    "```bash\n",
    "pip list\n",
    "```\n",
    "\n",
    "`pip`コマンドでインストールされたライブラリの一覧が表示されます。\n",
    "この中に`numpy`、`matplotlib`、`Pillow`、`scikit-learn`、`tensorflow`、`jupyter`が表示されていればOKです。\n",
    "また、バージョン番号も表示されています。今回使用するTensorFlowのバージョンは `2.0.0b1` です。\n",
    "`tensorflow`の右側のバージョン番号が`2.0.0b1`になっていることを確認してください。\n",
    "\n",
    "また以下のコマンドも実行して、Jupyter Notebookを起動します。\n",
    "\n",
    "```bash\n",
    "jupyter notebook\n",
    "```\n",
    "\n",
    "Webブラウザが起動し、以下のような画面が表示されれば「Jupyter Notebook」のインストールが完了しています。\n",
    "\n",
    "![Jupyter Notebookの画面](./images/jupyter_home.png)\n",
    "\n",
    "Webブラウザが自動的に立ち上がらない場合は、以下のようにアクセス用のURLが表示されているかもしれません。\n",
    "`token=`以降の文字列を含めてコピーし、Webブラウザのアドレスに貼り付けてアクセスしてみましょう。\n",
    "\n",
    "![Jupyter Notebookの起動URL](./images/jupyter_urls.png)\n",
    "\n",
    "Jupyter Notebookの停止方法は、Webブラウザを閉じて、コマンドプロンプトやターミナルで起動しているJupyter Notebookのサーバを`Ctrl+C`(`Ctrl`キーを押しながら`C`キーを押す)を入力して停止します。"
   ]
  },
  {
   "cell_type": "markdown",
   "metadata": {},
   "source": [
    "以上で、Pythonの準備が整いました。"
   ]
  },
  {
   "cell_type": "code",
   "execution_count": null,
   "metadata": {},
   "outputs": [],
   "source": []
  }
 ],
 "metadata": {
  "kernelspec": {
   "display_name": "Python 3",
   "language": "python",
   "name": "python3"
  },
  "language_info": {
   "codemirror_mode": {
    "name": "ipython",
    "version": 3
   },
   "file_extension": ".py",
   "mimetype": "text/x-python",
   "name": "python",
   "nbconvert_exporter": "python",
   "pygments_lexer": "ipython3",
   "version": "3.7.4"
  }
 },
 "nbformat": 4,
 "nbformat_minor": 2
}
