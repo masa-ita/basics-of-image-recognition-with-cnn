{
 "cells": [
  {
   "cell_type": "markdown",
   "metadata": {},
   "source": [
    "[![open in colab](https://colab.research.google.com/assets/colab-badge.svg)](https://colab.research.google.com/github/nagaoka-ai-innovationhub/basics-of-image-recognition-with-cnn/blob/master/11_exercises_of_image_classification_with_cnn.ipynb)"
   ]
  },
  {
   "cell_type": "markdown",
   "metadata": {},
   "source": [
    "# 畳み込みニューラルネットワークを使った画像分類の演習"
   ]
  },
  {
   "cell_type": "markdown",
   "metadata": {},
   "source": [
    "今までのテクニックを使って、畳み込みニューラルネットワークを使った画像分類をいくつか試してみましょう。"
   ]
  },
  {
   "cell_type": "code",
   "execution_count": 2,
   "metadata": {},
   "outputs": [
    {
     "name": "stdout",
     "output_type": "stream",
     "text": [
      "2.0.0-beta1\n",
      "2.2.4-tf\n"
     ]
    }
   ],
   "source": [
    "# ColabでのTensorFlow 2.xのインストール\n",
    "try:\n",
    "    # %tensorflow_version は Colab 上でのみ使えます\n",
    "    %tensorflow_version 2.x\n",
    "except Exception:\n",
    "    pass\n",
    "\n",
    "import tensorflow as tf\n",
    "\n",
    "# TensorFlowとtf.kerasのバージョン確認\n",
    "print(tf.version.VERSION)\n",
    "print(tf.keras.__version__)"
   ]
  },
  {
   "cell_type": "markdown",
   "metadata": {},
   "source": [
    "## 課題1.\n",
    "\n",
    "TensorFlowのチュートリアルで使われている花の画像を使って、畳み込みニューラルネットワークで画像分類してみましょう。\n",
    "\n",
    "### やること\n",
    "\n",
    "1. 画像を`train`、`validation`、`test`の各ディレクトリに分けて格納してみましょう。\n",
    "2. 画像を`ImageDataGenerator`で読み込めるようにしましょう。その際に、データ拡張もしてみましょう。\n",
    "3. 畳み込みニューラルネットワークを構築して学習してみましょう。\n",
    "4. 学習済モデルを使って、推論してみましょう。\n",
    "5. 過学習対策をして、再度学習・推論してみましょう。"
   ]
  },
  {
   "cell_type": "markdown",
   "metadata": {},
   "source": [
    "## 課題2.\n",
    "\n",
    "講師から次の画像データを渡しますので、これを使って以下の分類をしてみましょう。\n",
    "\n",
    "- 笹団子\n",
    "- 柿の種\n",
    "- イタリアン（みかづきやフレンドで提供されているもの）\n",
    "- バスセンターのカレー"
   ]
  },
  {
   "cell_type": "markdown",
   "metadata": {},
   "source": [
    "## 課題3.\n",
    "\n",
    "インターネットから独自に画像を集めて、分類してみましょう。\n",
    "\n",
    "なお、こちらの課題に進まれた方は、個別に取得方法をレクチャーします。"
   ]
  },
  {
   "cell_type": "code",
   "execution_count": null,
   "metadata": {},
   "outputs": [],
   "source": []
  }
 ],
 "metadata": {
  "kernelspec": {
   "display_name": "Python 3",
   "language": "python",
   "name": "python3"
  },
  "language_info": {
   "codemirror_mode": {
    "name": "ipython",
    "version": 3
   },
   "file_extension": ".py",
   "mimetype": "text/x-python",
   "name": "python",
   "nbconvert_exporter": "python",
   "pygments_lexer": "ipython3",
   "version": "3.7.4"
  }
 },
 "nbformat": 4,
 "nbformat_minor": 2
}
