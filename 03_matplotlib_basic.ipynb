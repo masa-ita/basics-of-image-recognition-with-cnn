{
 "cells": [
  {
   "cell_type": "markdown",
   "metadata": {},
   "source": [
    "# matplotlib"
   ]
  },
  {
   "cell_type": "markdown",
   "metadata": {},
   "source": [
    "matplotlibはPythonの標準的なグラフ作成ライブラリで、豊富な機能を持っているが、ここでは機械学習で必要となる次のような用途を想定して、その一部を紹介する。\n",
    "\n",
    "- 学習の進捗などのグラフを作成する\n",
    "- 画像を簡易的に表示する\n",
    "\n",
    "詳細な機能は下記のサイトなどを参考にすると良い。\n",
    "\n",
    "- http://www.turbare.net/transl/scipy-lecture-notes/intro/matplotlib/matplotlib.html\n",
    "- https://qiita.com/skotaro/items/08dc0b8c5704c94eafb9"
   ]
  },
  {
   "cell_type": "markdown",
   "metadata": {},
   "source": [
    "インストールはpipを使って行う。"
   ]
  },
  {
   "cell_type": "raw",
   "metadata": {},
   "source": [
    "!pip install matplotlib"
   ]
  },
  {
   "cell_type": "markdown",
   "metadata": {},
   "source": [
    "ライブラリ読み込みと、画像のインライン表示設定。\n",
    "\n",
    "慣例で、グラフ描画オブジェクトpyplotはpltという短縮系を使う。"
   ]
  },
  {
   "cell_type": "code",
   "execution_count": null,
   "metadata": {},
   "outputs": [],
   "source": [
    "import matplotlib.pyplot as plt\n",
    "\n",
    "# グラフをjupyter notebook内に表示する設定\n",
    "%matplotlib inline"
   ]
  },
  {
   "cell_type": "markdown",
   "metadata": {},
   "source": [
    "# グラフに日本語を表示するための設定"
   ]
  },
  {
   "cell_type": "markdown",
   "metadata": {},
   "source": [
    "matplotlibは既定では英字フォントを使用するように設定されているため、そのままでは日本語が表示できません。\n",
    "また、matplotlibで使用できるフォントファイルの形式が限定されているため、OS標準のフォントが使えない場合があります。\n",
    "\n",
    "オープンソースのフォントをインストールし設定を変更する必要がありますが、手順が煩雑なため、ここではIPAフォントを含むPythonのモジュールをインストールして使用することにします。\n",
    "なお、手動での対応方法については、このノートブックの末尾に参考として記載してあります。"
   ]
  },
  {
   "cell_type": "markdown",
   "metadata": {},
   "source": [
    "### japanize-matplotlib のインストール"
   ]
  },
  {
   "cell_type": "code",
   "execution_count": null,
   "metadata": {},
   "outputs": [],
   "source": [
    "!pip install japanize-matplotlib"
   ]
  },
  {
   "cell_type": "markdown",
   "metadata": {},
   "source": [
    "### japanize_matplotlib のインポート"
   ]
  },
  {
   "cell_type": "code",
   "execution_count": null,
   "metadata": {},
   "outputs": [],
   "source": [
    "import japanize_matplotlib"
   ]
  },
  {
   "cell_type": "markdown",
   "metadata": {},
   "source": [
    "# matplotlibによるグラフ描画の基本"
   ]
  },
  {
   "cell_type": "markdown",
   "metadata": {},
   "source": [
    "## 1変数の折れ線グラフ"
   ]
  },
  {
   "cell_type": "markdown",
   "metadata": {},
   "source": [
    "描画用のサンプルデータを生成。ランダムウォークの数列を作ってみる。"
   ]
  },
  {
   "cell_type": "code",
   "execution_count": null,
   "metadata": {},
   "outputs": [],
   "source": [
    "import numpy as np\n",
    "\n",
    "r = np.random.randn(30)\n",
    "r"
   ]
  },
  {
   "cell_type": "code",
   "execution_count": null,
   "metadata": {},
   "outputs": [],
   "source": [
    "y = np.cumsum(r)\n",
    "y"
   ]
  },
  {
   "cell_type": "markdown",
   "metadata": {},
   "source": [
    "<code>np.cumsum()</code>関数は引数（配列）の累積和配列を生成する関数。"
   ]
  },
  {
   "cell_type": "code",
   "execution_count": null,
   "metadata": {},
   "outputs": [],
   "source": [
    "plt.plot(y)\n",
    "plt.show()"
   ]
  },
  {
   "cell_type": "markdown",
   "metadata": {},
   "source": [
    "1変数の場合には、x軸（横軸）にはインデックスが使われる。"
   ]
  },
  {
   "cell_type": "markdown",
   "metadata": {},
   "source": [
    "## 2変数の折れ線グラフ"
   ]
  },
  {
   "cell_type": "code",
   "execution_count": null,
   "metadata": {},
   "outputs": [],
   "source": [
    "x = np.arange(0, 3.14 * 3, 0.1)\n",
    "y = np.sin(x)"
   ]
  },
  {
   "cell_type": "code",
   "execution_count": null,
   "metadata": {},
   "outputs": [],
   "source": [
    "plt.plot(x, y)\n",
    "plt.show()"
   ]
  },
  {
   "cell_type": "markdown",
   "metadata": {},
   "source": [
    "plot()関数を複数回呼ぶと、同じグラフに上書きされる。"
   ]
  },
  {
   "cell_type": "code",
   "execution_count": null,
   "metadata": {},
   "outputs": [],
   "source": [
    "y1 = np.sin(x)\n",
    "y2 = np.cos(x)\n",
    "\n",
    "plt.plot(x, y1)\n",
    "plt.plot(x, y2)\n",
    "plt.show()"
   ]
  },
  {
   "cell_type": "markdown",
   "metadata": {},
   "source": [
    "### ラベルの設定"
   ]
  },
  {
   "cell_type": "code",
   "execution_count": null,
   "metadata": {},
   "outputs": [],
   "source": [
    "plt.rcParams['font.family'] = 'IPAexGothic'"
   ]
  },
  {
   "cell_type": "code",
   "execution_count": null,
   "metadata": {},
   "outputs": [],
   "source": [
    "y1 = np.sin(x)\n",
    "y2 = np.cos(x)\n",
    "\n",
    "plt.plot(x, y1)\n",
    "plt.plot(x, y2)\n",
    "plt.title('タイトル')\n",
    "plt.xlabel('X軸')\n",
    "plt.ylabel('Y軸')\n",
    "plt.show()"
   ]
  },
  {
   "cell_type": "markdown",
   "metadata": {},
   "source": [
    "### 凡例の設定"
   ]
  },
  {
   "cell_type": "code",
   "execution_count": null,
   "metadata": {},
   "outputs": [],
   "source": [
    "y1 = np.sin(x)\n",
    "y2 = np.cos(x)\n",
    "\n",
    "plt.plot(x, y1, label='Y1')\n",
    "plt.plot(x, y2, label='Y2')\n",
    "plt.title('タイトル')\n",
    "plt.xlabel('X軸')\n",
    "plt.ylabel('Y軸')\n",
    "plt.legend()\n",
    "plt.show()"
   ]
  },
  {
   "cell_type": "markdown",
   "metadata": {},
   "source": [
    "## 散布図"
   ]
  },
  {
   "cell_type": "markdown",
   "metadata": {},
   "source": [
    "plot()関数でマーカーを指定すると、折れ線グラフではなく散布図となる。"
   ]
  },
  {
   "cell_type": "code",
   "execution_count": null,
   "metadata": {},
   "outputs": [],
   "source": [
    "x = [1, 2, 3, 4]\n",
    "y = [8, 12, 4, 7]\n",
    "\n",
    "plt.plot(x, y, 'o')\n",
    "plt.show()"
   ]
  },
  {
   "cell_type": "markdown",
   "metadata": {},
   "source": [
    "詳細な設定はマニュアルを参照。\n",
    "\n",
    "- http://matplotlib.org/api/pyplot_api.html#matplotlib.pyplot.plot"
   ]
  },
  {
   "cell_type": "markdown",
   "metadata": {},
   "source": [
    "## ヒストグラム"
   ]
  },
  {
   "cell_type": "code",
   "execution_count": null,
   "metadata": {},
   "outputs": [],
   "source": [
    "x = np.random.normal(0, 1, 10000)\n",
    "\n",
    "plt.hist(x, bins=50)\n",
    "plt.show()"
   ]
  },
  {
   "cell_type": "markdown",
   "metadata": {},
   "source": [
    "## 配列を画像として表示"
   ]
  },
  {
   "cell_type": "code",
   "execution_count": null,
   "metadata": {},
   "outputs": [],
   "source": [
    "x = np.random.rand(3, 3)\n",
    "print(x)\n",
    "\n",
    "plt.imshow(x, cmap='coolwarm')\n",
    "plt.show()"
   ]
  },
  {
   "cell_type": "markdown",
   "metadata": {},
   "source": [
    "(縦, 横, 3)の3次元配列はRGBとして扱われる。  \n",
    "(縦, 横, 4)の3次元配列はアルファチャネル（透明度）付きのRGBとして扱われる。  "
   ]
  },
  {
   "cell_type": "code",
   "execution_count": null,
   "metadata": {},
   "outputs": [],
   "source": [
    "x = np.random.rand(3, 3, 3)\n",
    "print(x)\n",
    "\n",
    "plt.imshow(x)\n",
    "plt.show()"
   ]
  },
  {
   "cell_type": "markdown",
   "metadata": {},
   "source": [
    "## グラフをファイルに書き出す"
   ]
  },
  {
   "cell_type": "code",
   "execution_count": null,
   "metadata": {},
   "outputs": [],
   "source": [
    "x = np.arange(0, 3.14 * 3, 0.1)\n",
    "y1 = np.sin(x)\n",
    "y2 = np.cos(x)\n",
    "\n",
    "plt.plot(x, y1, label='Y1')\n",
    "plt.plot(x, y2, label='Y2')\n",
    "plt.title('タイトル')\n",
    "plt.xlabel('X軸')\n",
    "plt.ylabel('Y軸')\n",
    "plt.tight_layout()\n",
    "plt.legend()\n",
    "plt.savefig('wave_chart.png')"
   ]
  },
  {
   "cell_type": "markdown",
   "metadata": {},
   "source": [
    "plt.tight_layout()関数は、軸ラベル等がはみ出さないように適宜調整するための関数。"
   ]
  },
  {
   "cell_type": "markdown",
   "metadata": {},
   "source": [
    "plt.savefig() ではファイルの拡張子でファイル形式が自動選択される。"
   ]
  },
  {
   "cell_type": "markdown",
   "metadata": {},
   "source": [
    "# Pillowによる画像操作"
   ]
  },
  {
   "cell_type": "markdown",
   "metadata": {},
   "source": [
    "## インストール"
   ]
  },
  {
   "cell_type": "raw",
   "metadata": {},
   "source": [
    "!pip install pillow"
   ]
  },
  {
   "cell_type": "markdown",
   "metadata": {},
   "source": [
    "## 画像ファイルの読み込みと表示"
   ]
  },
  {
   "cell_type": "code",
   "execution_count": null,
   "metadata": {},
   "outputs": [],
   "source": [
    "from PIL import Image\n",
    "\n",
    "img = Image.open('wave_chart.png')\n",
    "img.show()"
   ]
  },
  {
   "cell_type": "markdown",
   "metadata": {},
   "source": [
    "<code>show()</code>メソッドでは、OS既定の画像ファイル表示アプリケーションが呼び出される。"
   ]
  },
  {
   "cell_type": "markdown",
   "metadata": {},
   "source": [
    "## 画像をNumpy配列に変換"
   ]
  },
  {
   "cell_type": "code",
   "execution_count": null,
   "metadata": {},
   "outputs": [],
   "source": [
    "img_array = np.array(img)\n",
    "print(img_array.shape)"
   ]
  },
  {
   "cell_type": "code",
   "execution_count": null,
   "metadata": {},
   "outputs": [],
   "source": [
    "plt.imshow(img_array)\n",
    "ｐｌｔ.axis('off')\n",
    "plt.show()"
   ]
  },
  {
   "cell_type": "markdown",
   "metadata": {},
   "source": [
    "<code>plt.axis('off')</code> は軸を消すための指定。"
   ]
  },
  {
   "cell_type": "markdown",
   "metadata": {},
   "source": [
    "## Numpy配列を画像に変換"
   ]
  },
  {
   "cell_type": "code",
   "execution_count": null,
   "metadata": {},
   "outputs": [],
   "source": [
    "x = np.random.randint(0, 255, 32 * 32 * 3)\n",
    "x = x.reshape(32, 32, 3)\n",
    "\n",
    "# 画像に変換するにはnp.uint8()で8ビット符号なし整数に変換する必要あり。\n",
    "img = Image.fromarray(np.uint8(x))\n",
    "img.save('rgb.png')"
   ]
  },
  {
   "cell_type": "markdown",
   "metadata": {},
   "source": [
    "なお、Pillowでは様々な画像の操作が可能である。詳しくは下記を参照。\n",
    "\n",
    "- http://pillow.readthedocs.io\n",
    "- https://qiita.com/pashango2/items/145d858eff3c505c100a"
   ]
  },
  {
   "cell_type": "markdown",
   "metadata": {},
   "source": [
    "## ＜参考＞手動でmatplotlibのフォントを日本語対応にする方法"
   ]
  },
  {
   "cell_type": "markdown",
   "metadata": {},
   "source": [
    "### オープンソースフォントのインストール"
   ]
  },
  {
   "cell_type": "markdown",
   "metadata": {},
   "source": [
    "matplotlibの既定のフォントは\"DejaVu Sans\"で日本語には対応していない。\n",
    "\n",
    "また、matplotlibで使えるフォントの形式はTTF形式あるいはOTF形式に限られる。\n",
    "特にWindows10では日本語フォントはTTC形式がほとんどであり、TTF形式のフォントは「游明朝」\"Yu Mincho\"くらいしかない。\n",
    "\n",
    "このため、TTFあるいはOTF形式のオープンソースフォントを使うことが多い。例としてはGoogleやIPAのフォントがある。\n",
    "\n",
    "- https://www.google.com/get/noto/\n",
    "-- Noto Sans CJK JP, Noto Serif CJK JP\n",
    "- https://ipafont.ipa.go.jp/node26#ja\n",
    "-- IPAexGothic, IPAexMincho\n",
    "\n",
    "フォントのインストール方法はOSによって異なるが、Windows 10ではコントロールパネルからフォントを開き、解凍したTTFファイル（あるいはOTFファイル）をドラッグ&ドロップすればインストールできる。\n"
   ]
  },
  {
   "cell_type": "markdown",
   "metadata": {},
   "source": [
    "### matplotlibで使用可能なフォントを表示"
   ]
  },
  {
   "cell_type": "code",
   "execution_count": null,
   "metadata": {},
   "outputs": [],
   "source": [
    "import matplotlib.font_manager as fm\n",
    "\n",
    "fm.findSystemFonts()"
   ]
  },
  {
   "cell_type": "markdown",
   "metadata": {},
   "source": [
    "#### フォントキャッシュの削除"
   ]
  },
  {
   "cell_type": "markdown",
   "metadata": {},
   "source": [
    "matplotlibが使用するフォントファイルのリストはキャッシュされるため、フォントのインストールなどを行なった場合には、キャッシュファイルの削除を行う必要がある。\n",
    "\n",
    "フォントキャッシュはユーザーのホームディレクトリの.matplotlibディレクトリに作成される。下記のような名前のファイルである。\n",
    "\n",
    "- fontList.json\n",
    "- fontList.py3k.cache"
   ]
  },
  {
   "cell_type": "markdown",
   "metadata": {},
   "source": [
    "### matplotlibで使用するフォントの設定"
   ]
  },
  {
   "cell_type": "markdown",
   "metadata": {},
   "source": [
    "#### matplotlibrcファイルによる設定"
   ]
  },
  {
   "cell_type": "markdown",
   "metadata": {},
   "source": [
    "matplotlib全体の設定はmatplotlibrcファイルで設定される。\n",
    "\n",
    "matplotlibrcファイルの場所は下記のプログラムで確認できる。"
   ]
  },
  {
   "cell_type": "code",
   "execution_count": null,
   "metadata": {},
   "outputs": [],
   "source": [
    "import matplotlib as mpl\n",
    "\n",
    "mpl.matplotlib_fname()"
   ]
  },
  {
   "cell_type": "markdown",
   "metadata": {},
   "source": [
    "なお、ユーザーのホームディレクトリの.matplotlibディレクトリにmatplotlibrcを置くことができ、こちらが優先される。  \n",
    "このため、設定を1箇所で管理し統一したい場合には、matplotlibファイルをこのディレクトリにコピーして編集することが推奨される。"
   ]
  },
  {
   "cell_type": "markdown",
   "metadata": {},
   "source": [
    "```code:matplotlibrc\n",
    "    #font.family         : sans-serif\n",
    "    #font.style          : normal\n",
    "    #font.variant        : normal\n",
    "    #font.weight         : normal\n",
    "    #font.stretch        : normal\n",
    "\n",
    "    #font.size           : 10.0\n",
    "    #font.serif          : DejaVu Serif, Bitstream Vera Serif, Computer Modern Roman, New Century Schoolbook, Century Schoolbook L, Utopia, ITC Bookman, Bookman, Nimbus Roman No9 L, Times New Roman, Times, Palatino, Charter, serif\n",
    "    font.sans-serif     : IPAexGothic, DejaVu Sans, Bitstream Vera Sans, Computer Modern Sans Serif, Lucida Grande, Verdana, Geneva, Lucid, Arial, Helvetica, Avant Garde, sans-serif\n",
    "    #font.cursive        : Apple Chancery, Textile, Zapf Chancery, Sand, Script MT, Felipa, cursive\n",
    "    #font.fantasy        : Comic Sans MS, Chicago, Charcoal, ImpactWestern, Humor Sans, xkcd, fantasy\n",
    "    #font.monospace      : DejaVu Sans Mono, Bitstream Vera Sans Mono, Computer Modern Typewriter, Andale Mono, Nimbus Mono L, Courier New, Courier, Fixed, Terminal, monospace\n",
    "```"
   ]
  },
  {
   "cell_type": "markdown",
   "metadata": {},
   "source": [
    "既定では、font.family で sans-serif が指定され、font.sans-serif に指定されている優先順にフォントが選ばれている。  \n",
    "font.family　に直接 IPAexGothic などのフォントファミリ名を指定することもできるが、上記の例では font.sans-serif　の筆頭に IPAexGothic を指定している。\n",
    "\n",
    "指定する文字列はキャッシュにあるfontList.jsonの\"name\"に存在するものでなければならない。フォントをインストールしたにも関わらず、このファイルに存在しない場合には、キャッシュファイルを削除してみると良い。"
   ]
  },
  {
   "cell_type": "markdown",
   "metadata": {},
   "source": [
    "#### プログラムからの設定変更"
   ]
  },
  {
   "cell_type": "markdown",
   "metadata": {},
   "source": [
    "プログラムの先頭で下記のようにフォント関係のパラメータを一括指定して反映することができる。"
   ]
  },
  {
   "cell_type": "code",
   "execution_count": null,
   "metadata": {},
   "outputs": [],
   "source": [
    "import matplotlib as mpl\n",
    "\n",
    "font = {\"family\":\"IPAPGothic\",\n",
    "        \"size\": 12.0 }\n",
    "mpl.rc('font', **font) # mpl.rc('font', family='IPAPGothic', size=12.0)"
   ]
  },
  {
   "cell_type": "markdown",
   "metadata": {},
   "source": [
    "#### 使用する都度設定する方法"
   ]
  },
  {
   "cell_type": "code",
   "execution_count": null,
   "metadata": {},
   "outputs": [],
   "source": [
    "plt.rcParams['font.family'] = 'IPAexGothic'"
   ]
  }
 ],
 "metadata": {
  "kernelspec": {
   "display_name": "Python 3",
   "language": "python",
   "name": "python3"
  },
  "language_info": {
   "codemirror_mode": {
    "name": "ipython",
    "version": 3
   },
   "file_extension": ".py",
   "mimetype": "text/x-python",
   "name": "python",
   "nbconvert_exporter": "python",
   "pygments_lexer": "ipython3",
   "version": "3.7.5"
  }
 },
 "nbformat": 4,
 "nbformat_minor": 2
}
